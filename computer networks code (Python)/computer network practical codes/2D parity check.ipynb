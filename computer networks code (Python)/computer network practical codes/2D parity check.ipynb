{
 "cells": [
  {
   "cell_type": "code",
   "execution_count": 2,
   "metadata": {},
   "outputs": [
    {
     "name": "stdout",
     "output_type": "stream",
     "text": [
      "enter no. of bits in dataword: 7\n",
      "enter no. of datawords: 3\n",
      "enter datawords: \n",
      "1110110\n",
      "0010101\n",
      "1010100\n",
      "checksum datawords:\n",
      "1 1 1 0 1 1 0 1 \n",
      "0 0 1 0 1 0 1 1 \n",
      "1 0 1 0 1 0 0 1 \n",
      "0 1 1 0 1 1 1 1 \n"
     ]
    }
   ],
   "source": [
    "\"\"\"\n",
    "7\n",
    "3\n",
    "1110110\n",
    "0010101\n",
    "1010100\n",
    "\"\"\"\n",
    "\n",
    "c = int(input(\"enter no. of bits in dataword: \"))\n",
    "r = int(input(\"enter no. of datawords: \"))\n",
    "\n",
    "m = []\n",
    "rp = []\n",
    "cp = []\n",
    "res = []\n",
    "\n",
    "print(\"enter datawords: \")\n",
    "for i in range(r):\n",
    "    x = list(map(int, list(input())[0:c]))\n",
    "    # print(x)\n",
    "    m.append(x)\n",
    "\n",
    "# print('total input matrix:')\n",
    "# for i in range(r):\n",
    "#    for j in range(c):\n",
    "#        print(m[i][j], \" \", end=\"\")\n",
    "#    print()\n",
    "\n",
    "for i in range(r):\n",
    "    s = 0\n",
    "    for j in range(c):\n",
    "        s = s + m[i][j]\n",
    "    rp.append(s % 2)\n",
    "\n",
    "for j in range(c):\n",
    "    s = 0\n",
    "    for i in range(r):\n",
    "        s = s + m[i][j]\n",
    "    cp.append(s % 2)\n",
    "\n",
    "# print('row parity:\\n',rp)\n",
    "# print('column parity:\\n',cp)\n",
    "\n",
    "s = 0\n",
    "for i in rp:\n",
    "    s = s + i\n",
    "x = s % 2\n",
    "s = 0\n",
    "for i in cp:\n",
    "    s = s + i\n",
    "y = s % 2\n",
    "#    print('last value:\\n',x)\n",
    "\n",
    "\n",
    "for i in range(r):\n",
    "    res.append(m[i])\n",
    "    res[i].append(rp[i])\n",
    "res.append(cp)\n",
    "res[-1].append(x)\n",
    "\n",
    "print('checksum datawords:')\n",
    "for i in range(r + 1):\n",
    "    for j in range(c + 1):\n",
    "        print(res[i][j], end=\" \")\n",
    "    print()\n",
    "\n"
   ]
  },
  {
   "cell_type": "code",
   "execution_count": 3,
   "metadata": {},
   "outputs": [
    {
     "name": "stdout",
     "output_type": "stream",
     "text": [
      "[[1, 1, 1, 0, 1, 1, 0, 1], [0, 0, 1, 0, 1, 0, 1, 1], [1, 0, 1, 0, 1, 0, 0, 1], [0, 1, 1, 0, 1, 1, 1, 1]]\n"
     ]
    }
   ],
   "source": [
    "print(res)"
   ]
  },
  {
   "cell_type": "code",
   "execution_count": null,
   "metadata": {},
   "outputs": [],
   "source": []
  }
 ],
 "metadata": {
  "kernelspec": {
   "display_name": "Python 3",
   "language": "python",
   "name": "python3"
  },
  "language_info": {
   "codemirror_mode": {
    "name": "ipython",
    "version": 3
   },
   "file_extension": ".py",
   "mimetype": "text/x-python",
   "name": "python",
   "nbconvert_exporter": "python",
   "pygments_lexer": "ipython3",
   "version": "3.7.4"
  }
 },
 "nbformat": 4,
 "nbformat_minor": 2
}
