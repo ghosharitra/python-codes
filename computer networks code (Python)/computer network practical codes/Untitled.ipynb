{
 "cells": [
  {
   "cell_type": "code",
   "execution_count": 24,
   "metadata": {},
   "outputs": [
    {
     "name": "stdout",
     "output_type": "stream",
     "text": [
      "3\n",
      "101\n",
      "8\n",
      "10000000\n"
     ]
    }
   ],
   "source": [
    "def xor(temp,divisor,n):\n",
    "  res=[]\n",
    "  for i in range(n):\n",
    "    res.append(0)\n",
    "  for i in range(n):\n",
    "    if temp[i]==divisor[i]:\n",
    "      res[i]='0'\n",
    "    else:\n",
    "      res[i]='1'\n",
    "  return res\n",
    "\n",
    "\n",
    "m=int(input())\n",
    "dataword=list(input()[0:m])\n",
    "\n",
    "n=int(input())\n",
    "divisor=list(input()[0:n])\n"
   ]
  },
  {
   "cell_type": "code",
   "execution_count": 25,
   "metadata": {},
   "outputs": [
    {
     "name": "stdout",
     "output_type": "stream",
     "text": [
      "-1\n"
     ]
    }
   ],
   "source": [
    "if m>n:\n",
    "    m=m+n-1\n",
    "    for i in range(n-1):\n",
    "      dataword.append('0')\n",
    "\n",
    "\n",
    "\n",
    "    res=[]\n",
    "    zero=[]\n",
    "    for i in range(n):\n",
    "      res.append('0')\n",
    "      zero.append('0')\n",
    "\n",
    "    temp=dataword[0:n]\n",
    "\n",
    "\n",
    "\n",
    "    for i in range(m-n+1):\n",
    "\n",
    "      if temp[0]!='0':\n",
    "\n",
    "        res = xor(temp, divisor,n)\n",
    "      else:\n",
    "\n",
    "        res = xor(temp, zero,n)\n",
    "\n",
    "      for j in range(n-1):\n",
    "        temp[j]=res[j+1]\n",
    "      if n+i<len(dataword):  \n",
    "        temp[n-1]=dataword[n+i]\n",
    "\n",
    "    res=res[1:n]\n",
    "\n",
    "    crc=\"\"\n",
    "    count=0\n",
    "    for i in range(len(res)):\n",
    "        crc=crc+str(res[i])\n",
    "        count=count+int(res[i])\n",
    "\n",
    "\n",
    "    print(crc)\n",
    "    print(count)\n",
    "else:\n",
    "    print(\"-1\")"
   ]
  },
  {
   "cell_type": "code",
   "execution_count": null,
   "metadata": {},
   "outputs": [],
   "source": []
  },
  {
   "cell_type": "code",
   "execution_count": null,
   "metadata": {},
   "outputs": [],
   "source": []
  }
 ],
 "metadata": {
  "kernelspec": {
   "display_name": "Python 3",
   "language": "python",
   "name": "python3"
  }
 },
 "nbformat": 4,
 "nbformat_minor": 2
}
