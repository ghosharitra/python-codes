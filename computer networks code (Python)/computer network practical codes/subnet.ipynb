{
 "cells": [
  {
   "cell_type": "code",
   "execution_count": 1,
   "metadata": {},
   "outputs": [
    {
     "name": "stdout",
     "output_type": "stream",
     "text": [
      "255.255.240.0\n"
     ]
    }
   ],
   "source": [
    "#  255.255.240.0\n",
    "ip=list(map(int,input().split(\".\")))\n",
    "binip=\"\"\n",
    "for i in ip:\n",
    "    binip=binip+bin(i)[2:]\n"
   ]
  },
  {
   "cell_type": "code",
   "execution_count": 3,
   "metadata": {},
   "outputs": [
    {
     "data": {
      "text/plain": [
       "'1111111111111111111100000'"
      ]
     },
     "execution_count": 3,
     "metadata": {},
     "output_type": "execute_result"
    }
   ],
   "source": [
    "binip"
   ]
  },
  {
   "cell_type": "code",
   "execution_count": 7,
   "metadata": {},
   "outputs": [
    {
     "name": "stdout",
     "output_type": "stream",
     "text": [
      "no. of host per subnet:  4094\n"
     ]
    }
   ],
   "source": [
    "\n",
    "s=0\n",
    "for i in binip:\n",
    "    s=s+int(i)\n",
    "print(\"no. of host per subnet: \",(2**(32-s))-2)"
   ]
  },
  {
   "cell_type": "code",
   "execution_count": 8,
   "metadata": {},
   "outputs": [
    {
     "data": {
      "text/plain": [
       "20"
      ]
     },
     "execution_count": 8,
     "metadata": {},
     "output_type": "execute_result"
    }
   ],
   "source": [
    "s"
   ]
  },
  {
   "cell_type": "code",
   "execution_count": 6,
   "metadata": {},
   "outputs": [
    {
     "name": "stdout",
     "output_type": "stream",
     "text": [
      "no. of subnet in class A:  4096\n",
      "no. of subnet in class B:  16\n",
      "no. of subnet in class C: Not Possible\n"
     ]
    }
   ],
   "source": [
    "nid=0\n",
    "if ip[0]==255:\n",
    "    nid=8\n",
    "    print(\"no. of subnet in class A: \",2**(s-nid))\n",
    "        \n",
    "    if ip[1]==255:\n",
    "        nid=16\n",
    "        print(\"no. of subnet in class B: \",2**(s-nid))\n",
    "    \n",
    "        if ip[2]==255:\n",
    "            nid=24\n",
    "            print(\"no. of subnet in class C: \",2**(s-nid))\n",
    "        else:\n",
    "            print(\"no. of subnet in class C: Not Possible\")\n",
    "    else:\n",
    "        print(\"no. of subnet in class B: Not Possible\")\n",
    "        print(\"no. of subnet in class C: Not Possible\")\n",
    "else:\n",
    "    print(\"no. of subnet in class A: Not Possible\")\n",
    "    print(\"no. of subnet in class B: Not Possible\")\n",
    "    print(\"no. of subnet in class C: Not Possible\")\n"
   ]
  },
  {
   "cell_type": "code",
   "execution_count": null,
   "metadata": {},
   "outputs": [],
   "source": []
  }
 ],
 "metadata": {
  "kernelspec": {
   "display_name": "Python 3",
   "language": "python",
   "name": "python3"
  },
  "language_info": {
   "codemirror_mode": {
    "name": "ipython",
    "version": 3
   },
   "file_extension": ".py",
   "mimetype": "text/x-python",
   "name": "python",
   "nbconvert_exporter": "python",
   "pygments_lexer": "ipython3",
   "version": "3.7.4"
  }
 },
 "nbformat": 4,
 "nbformat_minor": 2
}
