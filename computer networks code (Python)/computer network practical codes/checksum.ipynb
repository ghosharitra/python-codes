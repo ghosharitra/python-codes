{
 "cells": [
  {
   "cell_type": "code",
   "execution_count": 2,
   "metadata": {},
   "outputs": [
    {
     "name": "stdout",
     "output_type": "stream",
     "text": [
      "enter no. of bits in dataword: 4\n",
      "enter no. of datawords: 3\n",
      "1011\n",
      "1110\n",
      "0110\n",
      "checksum:1110"
     ]
    }
   ],
   "source": [
    "def add(a,b,c):  \n",
    "        return (a ^ b ^ c),((a & b) | (b & c) | (c & a))\n",
    "\n",
    "c = int(input(\"enter no. of bits in dataword: \"))\n",
    "r = int(input(\"enter no. of datawords: \"))\n",
    "\n",
    "data=[]\n",
    "\n",
    "for i in range(r):\n",
    "    temp= list(map(int, list(input())[0:c]))\n",
    "    data.append(temp)\n",
    "\n",
    "#print(data)\n",
    "\n",
    "temp=list(map(int,list('0'*c)))\n",
    "#print(temp)\n",
    "\n",
    "zero=list(map(int,list('0'*c)))\n",
    "#print(zero)\n",
    "\n",
    "for i in range(r):\n",
    "    #print(\"pre: \",temp)\n",
    "    #print(\"new: \",data[i])\n",
    "    cy=0\n",
    "    for j in range(c-1,-1,-1):\n",
    "        temp[j],cy=add(data[i][j],temp[j],cy)\n",
    "    #print(\"res: \",temp)\n",
    "    if cy==1:\n",
    "    #    print(\"pre: \",temp)\n",
    "    #    print(\"new: \",zero)\n",
    "        for j in range(c-1,-1,-1):\n",
    "            temp[j],cy=add(temp[j],zero[j],cy)\n",
    "    #    print(\"res: \",temp)\n",
    "\n",
    "temp=list(map(lambda x: int(not x),temp))\n",
    "print(\"checksum:\",end=\"\")\n",
    "for i in temp:\n",
    "    print(i,end=\"\")"
   ]
  },
  {
   "cell_type": "code",
   "execution_count": null,
   "metadata": {},
   "outputs": [],
   "source": []
  }
 ],
 "metadata": {
  "kernelspec": {
   "display_name": "Python 3",
   "language": "python",
   "name": "python3"
  },
  "language_info": {
   "codemirror_mode": {
    "name": "ipython",
    "version": 3
   },
   "file_extension": ".py",
   "mimetype": "text/x-python",
   "name": "python",
   "nbconvert_exporter": "python",
   "pygments_lexer": "ipython3",
   "version": "3.7.4"
  }
 },
 "nbformat": 4,
 "nbformat_minor": 2
}
