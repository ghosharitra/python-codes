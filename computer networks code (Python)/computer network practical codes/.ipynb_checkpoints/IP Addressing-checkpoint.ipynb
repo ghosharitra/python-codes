{
 "cells": [
  {
   "cell_type": "markdown",
   "metadata": {},
   "source": [
    "Identify the Class, Network IP Address, Direct broadcast address and Limited broadcast address of IP Address. For Invalid IP, Print '-1'.\n",
    "\n",
    "Input Format\n",
    "\n",
    "IP Address\n",
    "\n",
    "Constraints\n",
    "\n",
    "NA\n",
    "\n",
    "Output Format\n",
    "\n",
    "Class (In Uppercase)\n",
    "\n",
    "Network IP Address\n",
    "\n",
    "Direct broadcast address\n",
    "\n",
    "Limited broadcast address\n",
    "\n",
    "Sample Input 0\n",
    "\n",
    "1.2.3.4\n",
    "Sample Output 0\n",
    "\n",
    "A\n",
    "1.0.0.0\n",
    "1.255.255.255\n",
    "255.255.255.255\n",
    "Explanation 0\n",
    "\n",
    "IP Address belongs to class A.\n",
    "\n",
    "Network IP Address = 1.0.0.0\n",
    "\n",
    "Direct Broadcast Address = 1.255.255.255.\n",
    "\n",
    "Limited Broadcast Address = 255.255.255.255\n",
    "\n"
   ]
  },
  {
   "cell_type": "code",
   "execution_count": 4,
   "metadata": {},
   "outputs": [
    {
     "name": "stdout",
     "output_type": "stream",
     "text": [
      "1.0.0.0\n"
     ]
    }
   ],
   "source": [
    "ip=list(map(int,input().split(\".\")))"
   ]
  },
  {
   "cell_type": "code",
   "execution_count": 5,
   "metadata": {},
   "outputs": [
    {
     "data": {
      "text/plain": [
       "[1, 0, 0, 0]"
      ]
     },
     "execution_count": 5,
     "metadata": {},
     "output_type": "execute_result"
    }
   ],
   "source": [
    "#print(ip)"
   ]
  },
  {
   "cell_type": "code",
   "execution_count": 11,
   "metadata": {},
   "outputs": [
    {
     "name": "stdout",
     "output_type": "stream",
     "text": [
      "A\n"
     ]
    }
   ],
   "source": [
    "cls=\"\"\n",
    "if 0<=ip[0] and ip[0]<=127:\n",
    "    cls=\"A\"\n",
    "    \n",
    "elif 128<=ip[0] and ip[0]<=191:\n",
    "    cls=\"B\"\n",
    "elif 192<=ip[0] and ip[0]<=223:\n",
    "    cls=\"C\"\n",
    "elif 224<=ip[0] and ip[0]<=239:\n",
    "    cls=\"D\"\n",
    "elif 240<=ip[0] and ip[0]<=255:\n",
    "    cls=\"E\"\n",
    "print(cls)"
   ]
  },
  {
   "cell_type": "code",
   "execution_count": 21,
   "metadata": {},
   "outputs": [
    {
     "name": "stdout",
     "output_type": "stream",
     "text": [
      "1.0.0.0\n",
      "1.255.255.255\n",
      "255.255.255.255\n"
     ]
    }
   ],
   "source": [
    "networkip=[0,0,0,0]\n",
    "directbc=[255,255,255,255]\n",
    "if cls==\"A\":\n",
    "    networkip[0]=ip[0]\n",
    "    directbc[0]=ip[0]\n",
    "elif cls==\"B\":\n",
    "    networkip[0:2]=ip[0:2]\n",
    "    directbc[0:2]=ip[0:2]\n",
    "elif cls==\"C\":\n",
    "    networkip[0:3]=ip[0:3]\n",
    "    directbc[0:3]=ip[0:3]\n",
    "elif cls==\"D\":\n",
    "    networkip[0:4]=ip[0:4]\n",
    "    directbc[0:4]=ip[0:4]\n",
    "elif cls==\"E\":\n",
    "    networkip[0:4]=ip[0:4]\n",
    "    directbc[0:4]=ip[0:4]\n",
    "\n",
    "s=\"\"\n",
    "for i in networkip:\n",
    "    s=s+\".\"+str(i)\n",
    "s=s[1:]\n",
    "print(s)\n",
    "\n",
    "s=\"\"\n",
    "for i in directbc:\n",
    "    s=s+\".\"+str(i)\n",
    "s=s[1:]\n",
    "print(s)\n",
    "print(\"255.255.255.255\")"
   ]
  },
  {
   "cell_type": "code",
   "execution_count": null,
   "metadata": {},
   "outputs": [],
   "source": []
  }
 ],
 "metadata": {
  "kernelspec": {
   "display_name": "Python 3",
   "language": "python",
   "name": "python3"
  },
  "language_info": {
   "codemirror_mode": {
    "name": "ipython",
    "version": 3
   },
   "file_extension": ".py",
   "mimetype": "text/x-python",
   "name": "python",
   "nbconvert_exporter": "python",
   "pygments_lexer": "ipython3",
   "version": "3.7.4"
  }
 },
 "nbformat": 4,
 "nbformat_minor": 2
}
