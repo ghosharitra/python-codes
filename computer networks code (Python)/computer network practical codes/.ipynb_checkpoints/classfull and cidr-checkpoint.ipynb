{
 "cells": [
  {
   "cell_type": "code",
   "execution_count": 4,
   "metadata": {},
   "outputs": [
    {
     "ename": "IndentationError",
     "evalue": "unindent does not match any outer indentation level (<tokenize>, line 60)",
     "output_type": "error",
     "traceback": [
      "\u001b[1;36m  File \u001b[1;32m\"<tokenize>\"\u001b[1;36m, line \u001b[1;32m60\u001b[0m\n\u001b[1;33m    ip_bin=ip_bin[:len(ip_bin)-1]\u001b[0m\n\u001b[1;37m    ^\u001b[0m\n\u001b[1;31mIndentationError\u001b[0m\u001b[1;31m:\u001b[0m unindent does not match any outer indentation level\n"
     ]
    }
   ],
   "source": [
    "def generate_firstIP(ip_bin, network_int):\n",
    "    first_ip = ip_bin[:network_int]\n",
    "    for i in range(network_int, 32):\n",
    "       first_ip+='0'\n",
    "    ##print(first_ip)\n",
    "    return createOctets(first_ip, 'First IP')\n",
    "    \n",
    "\n",
    "def generate_lastIP(ip_bin, network_int):\n",
    "    last_ip = ip_bin[:network_int]\n",
    "    for i in range(network_int, 32):\n",
    "       last_ip+='1'\n",
    "    ##print(last_ip)\n",
    "    return createOctets(last_ip, 'Last IP')\n",
    "    \n",
    "\n",
    "def createOctets(ip, name):\n",
    "    tmp='0b'\n",
    "    ip_addr =[]\n",
    "    for i in range(0,32):\n",
    "        if (i+1)%8!=0:\n",
    "            tmp+=ip[i]\n",
    "        else:\n",
    "            tmp+=ip[i]\n",
    "            ip_addr.append(tmp)\n",
    "            tmp='0b'\n",
    "    ##print(ip_addr)\n",
    "    return displayIP(ip_addr, name)\n",
    "\n",
    "\n",
    "def displayIP(test, name):\n",
    "    first_ip_dec = []\n",
    "    for i in test:\n",
    "        first_ip_dec.append(str(int(i,2)))\n",
    "    ##print(first_ip_dec)\n",
    "    first_ip_str = '.'.join(first_ip_dec)\n",
    "    print(name , \" :-\",  first_ip_str)\n",
    "    return first_ip_str\n",
    "\n",
    "\n",
    "if __name__ == \"__main__\":\n",
    "    l = []\n",
    "    l_net__ip = []\n",
    "    ip = input()\n",
    "    l = ip.split(sep='/')\n",
    "    network_int = int(l[1])\n",
    "    host_int = 32-network_int\n",
    "    net_ip = l[0]\n",
    "    ip_bin=\"\"\n",
    "    l_net__ip = net_ip.split(sep='.')\n",
    "    ##print(l_net__ip)\n",
    "    net_ip_bin = []\n",
    "    for i in l_net__ip:\n",
    "        x = int(i)\n",
    "        bin_x = bin(x)\n",
    "        bin_x=bin_x[2:]\n",
    "        bin_x=bin_x.zfill(8)\n",
    "        net_ip_bin.append(bin_x)\n",
    "        ip_bin=ip_bin+bin_x\n",
    "    ip_bin=ip_bin[:len(ip_bin)-1]\n",
    "    print(net_ip_bin)\n",
    "    first_ip_str=generate_firstIP(ip_bin, network_int)\n",
    "    last_ip_str=generate_lastIP(ip_bin, network_int)\n",
    "    print(first_ip_str)\n",
    "    x=first_ip_str.split(\".\")[0]\n",
    "    if (int(x)>=0 and int(x)<=127):\n",
    "        print(\"Belongs to class A\")\n",
    "    elif (int(x)>=128 and int(x)<=191):\n",
    "        print(\"Belongs to class B\")\n",
    "    elif (int(x)>=192 and int(x)<=223):\n",
    "        print(\"Belongs to class c\")\n",
    "    elif (int(x)>=224 and int(x)<=239):\n",
    "        print(\"Belongs to class D\")\n",
    "    elif (int(x)>=240 and int(x)<=255):\n",
    "        print(\"Belongs to class E\")\n"
   ]
  },
  {
   "cell_type": "code",
   "execution_count": null,
   "metadata": {},
   "outputs": [],
   "source": []
  }
 ],
 "metadata": {
  "kernelspec": {
   "display_name": "Python 3",
   "language": "python",
   "name": "python3"
  },
  "language_info": {
   "codemirror_mode": {
    "name": "ipython",
    "version": 3
   },
   "file_extension": ".py",
   "mimetype": "text/x-python",
   "name": "python",
   "nbconvert_exporter": "python",
   "pygments_lexer": "ipython3",
   "version": "3.7.4"
  }
 },
 "nbformat": 4,
 "nbformat_minor": 2
}
