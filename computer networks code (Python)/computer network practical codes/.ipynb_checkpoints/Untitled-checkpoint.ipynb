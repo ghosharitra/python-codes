{
 "cells": [
  {
   "cell_type": "code",
   "execution_count": 5,
   "metadata": {},
   "outputs": [
    {
     "name": "stdout",
     "output_type": "stream",
     "text": [
      "7\n",
      "1010000\n",
      "4\n",
      "1001\n"
     ]
    }
   ],
   "source": [
    "def xor(temp,divisor,n):\n",
    "  res=[]\n",
    "  for i in range(n):\n",
    "    res.append(0)\n",
    "  for i in range(n):\n",
    "    if temp[i]==divisor[i]:\n",
    "      res[i]='0'\n",
    "    else:\n",
    "      res[i]='1'\n",
    "  return res\n",
    "\n",
    "\n",
    "m=int(input())\n",
    "dataword=list(input()[0:m])\n",
    "#print(\"word: \",dataword)\n",
    "\n",
    "\n",
    "\n",
    "n=int(input())\n",
    "divisor=list(input()[0:n])\n"
   ]
  },
  {
   "cell_type": "code",
   "execution_count": 6,
   "metadata": {},
   "outputs": [
    {
     "name": "stdout",
     "output_type": "stream",
     "text": [
      "remainder:  011\n",
      "sent dataword:  1010000011\n"
     ]
    }
   ],
   "source": [
    "#print(\"divisor: \",divisor)\n",
    "\n",
    "m=m+n-1\n",
    "for i in range(n-1):\n",
    "  dataword.append('0')\n",
    "#print(\"word: \",dataword)\n",
    "\n",
    "\n",
    "res=[]\n",
    "zero=[]\n",
    "for i in range(n):\n",
    "  res.append('0')\n",
    "  zero.append('0')\n",
    "\n",
    "temp=dataword[0:n]\n",
    "\n",
    "#print(\"temp: \",temp)\n",
    "\n",
    "\n",
    "for i in range(m-n+1):\n",
    "#  print(\"temp:\", temp)\n",
    "  if temp[0]!='0':\n",
    "#    print(\"divisor:\",divisor)\n",
    "    res = xor(temp, divisor,n)\n",
    "  else:\n",
    "#    print(\"divisor:\", zero)\n",
    "    res = xor(temp, zero,n)\n",
    "#  print(\"res:\", res)\n",
    "  for j in range(n-1):\n",
    "    temp[j]=res[j+1]\n",
    "  if n+i<len(dataword):  \n",
    "    temp[n-1]=dataword[n+i]\n",
    "\n",
    "res=res[1:n]\n",
    "from functools import reduce\n",
    "rem=reduce(lambda s1,s2: s1+s2,res)\n",
    "sent=reduce(lambda s1,s2: s1+s2,dataword[0:(m-n+1)])+rem\n",
    "print(\"remainder: \",rem)\n",
    "print(\"sent dataword: \",sent)"
   ]
  },
  {
   "cell_type": "code",
   "execution_count": 18,
   "metadata": {},
   "outputs": [
    {
     "name": "stdout",
     "output_type": "stream",
     "text": [
      "['0', '1', '1']\n",
      "011\n",
      "2\n"
     ]
    }
   ],
   "source": [
    "crc=\"\"\n",
    "count=0\n",
    "for i in range(len(res)):\n",
    "    crc=crc+str(res[i])\n",
    "    count=count+int(res[i])\n",
    "\n",
    "\n",
    "print(crc)\n",
    "print(count)"
   ]
  },
  {
   "cell_type": "code",
   "execution_count": null,
   "metadata": {},
   "outputs": [],
   "source": []
  }
 ],
 "metadata": {
  "kernelspec": {
   "display_name": "Python 3",
   "language": "python",
   "name": "python3"
  }
 },
 "nbformat": 4,
 "nbformat_minor": 2
}
