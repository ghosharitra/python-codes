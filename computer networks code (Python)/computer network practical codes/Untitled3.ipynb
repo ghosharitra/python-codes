{
 "cells": [
  {
   "cell_type": "code",
   "execution_count": 1,
   "metadata": {},
   "outputs": [
    {
     "name": "stdout",
     "output_type": "stream",
     "text": [
      "1.2.3.4\n",
      "\n",
      "\n",
      "0.0.0.0\n",
      "255.255.255.255\n",
      "255.255.255.255\n"
     ]
    }
   ],
   "source": [
    "x=list(map(int,input().split(\".\")))\n",
    "if (0<=x[0] and x[0]<=255 and 0<=x[1] and x[1]<=255 and 0<=x[2] and x[2]<=255 and 0<=x[3] and x[3]<=255):\n",
    "\n",
    "    clas=\"\"\n",
    "    if 0<=x[0] and x[0]<=127:\n",
    "        clss=\"A\"\n",
    "    elif 128<=x[0] and x[0]<=191:\n",
    "        clas=\"B\"\n",
    "    elif 192<=x[0] and x[0]<=223:\n",
    "        clas=\"C\"\n",
    "    elif 224<=x[0] and x[0]<=239:\n",
    "        clas=\"D\"\n",
    "    elif 240<=x[0] and x[0]<=255:\n",
    "        clas=\"E\"\n",
    "    else:\n",
    "        clas=-1\n",
    "    print(clas)\n",
    "    if(clas!=-1):\n",
    "        networkip=[0,0,0,0]\n",
    "        directbc=[255,255,255,255]\n",
    "        if clas==\"A\":\n",
    "            networkip[0]=x[0]\n",
    "            directbc[0]=x[0]\n",
    "        elif clas==\"B\":\n",
    "            networkip[0:2]=x[0:2]\n",
    "            directbc[0:2]=x[0:2]\n",
    "        elif clas==\"C\":\n",
    "            networkip[0:3]=x[0:3]\n",
    "            directbc[0:3]=x[0:3]\n",
    "        elif clas==\"D\":\n",
    "            networkip[0:4]=x[0:4]\n",
    "            directbc[0:4]=x[0:4]\n",
    "        elif clas==\"E\":\n",
    "            networkip[0:4]=x[0:4]\n",
    "            directbc[0:4]=x[0:4]\n",
    "        print(clas)\n",
    "        s=\"\"\n",
    "        for i in networkip:\n",
    "            s=s+\".\"+str(i)\n",
    "        s=s[1:]\n",
    "        print(s)\n",
    "\n",
    "        s=\"\"\n",
    "        for i in directbc:\n",
    "            s=s+\".\"+str(i)\n",
    "        s=s[1:]\n",
    "        print(s)\n",
    "        print(\"255.255.255.255\")\n",
    "else:\n",
    "    print(\"-1\")"
   ]
  },
  {
   "cell_type": "code",
   "execution_count": null,
   "metadata": {},
   "outputs": [],
   "source": []
  }
 ],
 "metadata": {
  "kernelspec": {
   "display_name": "Python 3",
   "language": "python",
   "name": "python3"
  },
  "language_info": {
   "codemirror_mode": {
    "name": "ipython",
    "version": 3
   },
   "file_extension": ".py",
   "mimetype": "text/x-python",
   "name": "python",
   "nbconvert_exporter": "python",
   "pygments_lexer": "ipython3",
   "version": "3.7.4"
  }
 },
 "nbformat": 4,
 "nbformat_minor": 2
}
