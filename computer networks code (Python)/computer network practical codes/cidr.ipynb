{
 "cells": [
  {
   "cell_type": "code",
   "execution_count": null,
   "metadata": {},
   "outputs": [],
   "source": [
    "# 100.1.2.35/20\n",
    "\n",
    "l = input().split(\"/\")\n",
    "block = int(l[1])\n",
    "ip = l[0]\n",
    "ip = list(map(int, ip.split(\".\")))\n",
    "\n",
    "n = 32 - block\n",
    "s = \"\"\n",
    "for i in range(4):\n",
    "    s = s + bin(ip[i])[2:].zfill(8)\n",
    "\n",
    "s = s[:block] + ('0' * n)\n",
    "\n",
    "res = []\n",
    "string = \"\"\n",
    "for i in range(4):\n",
    "    dec = 0\n",
    "    for j in range(8):\n",
    "        dec = 2 * dec + int(s[i * 8:(i * 8) + 8][j])\n",
    "\n",
    "    string = string + \".\" + str(dec)\n",
    "string = string[1:]\n",
    "print(\"ip:\", string, \" to \", end=\"\")\n",
    "\n",
    "s = s[:block] + ('1' * n)\n",
    "\n",
    "res = []\n",
    "string = \"\"\n",
    "for i in range(4):\n",
    "  dec = int(s[i * 8:(i * 8) + 8], 2)\n",
    "  string = string + \".\" + str(dec)\n",
    "string = string[1:]\n",
    "print(\"ip:\", string)\n"
   ]
  }
 ],
 "metadata": {
  "kernelspec": {
   "display_name": "Python 3",
   "language": "python",
   "name": "python3"
  },
  "language_info": {
   "codemirror_mode": {
    "name": "ipython",
    "version": 3
   },
   "file_extension": ".py",
   "mimetype": "text/x-python",
   "name": "python",
   "nbconvert_exporter": "python",
   "pygments_lexer": "ipython3",
   "version": "3.7.4"
  }
 },
 "nbformat": 4,
 "nbformat_minor": 2
}
