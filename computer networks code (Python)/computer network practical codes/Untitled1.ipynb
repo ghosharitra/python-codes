{
 "cells": [
  {
   "cell_type": "code",
   "execution_count": 14,
   "metadata": {},
   "outputs": [
    {
     "name": "stdout",
     "output_type": "stream",
     "text": [
      "20.10.30.35/27\n"
     ]
    }
   ],
   "source": [
    "l = input().split(\"/\")\n"
   ]
  },
  {
   "cell_type": "code",
   "execution_count": 15,
   "metadata": {},
   "outputs": [
    {
     "name": "stdout",
     "output_type": "stream",
     "text": [
      "20.10.30.32,20.10.30.63\n"
     ]
    }
   ],
   "source": [
    "ntwbits = int(l[1])\n",
    "\n",
    "\n",
    "n=32-ntwbits\n",
    "\n",
    "\n",
    "\n",
    "ip = l[0]\n",
    "ip = list(map(int, ip.split(\".\")))\n",
    "\n",
    "if(32>ntwbits and ntwbits>0 and ip[0]<=255 and ip[1]<=255 and ip[2]<=255 and ip[3]<=255):\n",
    "\n",
    "    binip=\"\"\n",
    "\n",
    "    for i in range(4):\n",
    "        binip = binip+ bin(ip[i])[2:].zfill(8)\n",
    "\n",
    "    binip=binip[:ntwbits]+('0'*n)\n",
    "\n",
    "    cidrstart=\"\"\n",
    "    for i in range(4):\n",
    "        cidrstart=cidrstart+\".\"+str(int(binip[i*8:(i*8)+8],2))\n",
    "    cidrstart=cidrstart[1:]\n",
    "\n",
    "\n",
    "\n",
    "    binip=binip[:ntwbits]+('1'*n)\n",
    "\n",
    "    cidrend=\"\"\n",
    "    for i in range(4):\n",
    "        cidrend=cidrend+\".\"+str(int(binip[i*8:(i*8)+8],2))\n",
    "    cidrend=cidrend[1:]\n",
    "    print(cidrstart,end=\",\")\n",
    "    print(cidrend)\n",
    "else:\n",
    "    print(\"-1\")"
   ]
  },
  {
   "cell_type": "code",
   "execution_count": null,
   "metadata": {},
   "outputs": [],
   "source": [
    "                             \n",
    "                             \n",
    "                             \n",
    "                             \n",
    "cidrend=binip[:ntwbits]+('1'*n)\n",
    "res = []\n",
    "string = \"\"\n",
    "for i in range(4):\n",
    "    dec = 0\n",
    "    for j in range(8):\n",
    "        dec = 2 * dec + int(s[i * 8:(i * 8) + 8][j])\n",
    "\n",
    "    string = string + \".\" + str(dec)\n",
    "string = string[1:]\n",
    "print(string,end=\"\")\n",
    "print(\",\",end=\"\")\n",
    "s = s[:block] + ('1' * n)\n",
    "\n",
    "res = []\n",
    "string = \"\"\n",
    "for i in range(4):\n",
    "  dec = int(s[i * 8:(i * 8) + 8], 2)\n",
    "  string = string + \".\" + str(dec)\n",
    "string = string[1:]\n",
    "print(string)\n"
   ]
  }
 ],
 "metadata": {
  "kernelspec": {
   "display_name": "Python 3",
   "language": "python",
   "name": "python3"
  },
  "language_info": {
   "codemirror_mode": {
    "name": "ipython",
    "version": 3
   },
   "file_extension": ".py",
   "mimetype": "text/x-python",
   "name": "python",
   "nbconvert_exporter": "python",
   "pygments_lexer": "ipython3",
   "version": "3.7.4"
  }
 },
 "nbformat": 4,
 "nbformat_minor": 2
}
