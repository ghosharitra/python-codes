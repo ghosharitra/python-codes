{
 "cells": [
  {
   "cell_type": "code",
   "execution_count": null,
   "metadata": {},
   "outputs": [],
   "source": [
    "\"\"\"\n",
    "Lazy Student\n",
    "Problem Description\n",
    "There is a test of Algorithms. Teacher provides a question\n",
    "bank consisting of N questions and guarantees all the\n",
    "questions in the test will be from this question bank. Due to\n",
    "lack of time and his laziness, Codu could only practice M\n",
    "questions. There are T questions in a question paper\n",
    "selected randomly. Passing criteria is solving at least 1 of\n",
    "the T problems. Codu can't solve the question he didn't\n",
    "practice. What is the probability that Codu will pass the\n",
    "test?\n",
    "Constraints\n",
    "0 < T <= 10000\n",
    "0 < N, T <= 1000\n",
    "0 <= M <= 1000\n",
    "M,T <= N\n",
    "Input Format\n",
    "First line contains single integer T denoting the number of\n",
    "test cases.\n",
    "First line of each test case contains 3 integers separated\n",
    "by space denoting N, T, and M.\n",
    "Output\n",
    "For each test case, print a single integer.\n",
    "If probability is p/q where p & q are co-prime, print\n",
    "(p*mulInv(q)) modulo 1000000007, where mulInv(x) is\n",
    "multiplicative inverse of x under modulo 1000000007.\n",
    "Timeout\n",
    "1\n",
    "Test Case\n",
    "Example 1\n",
    "Input\n",
    "1\n",
    "4 2 1\n",
    "Output\n",
    "500000004\n",
    "Explanation\n",
    "The probability is ½. So output is 500000004.  \n",
    "\n",
    "\n",
    "\"\"\""
   ]
  },
  {
   "cell_type": "code",
   "execution_count": 10,
   "metadata": {},
   "outputs": [],
   "source": [
    "def combination(n,r):\n",
    "    num=1\n",
    "    for i in range(n,n-r,-1):\n",
    "        num=num*i\n",
    "    \n",
    "    den=1\n",
    "    for i in range(1,r+1):\n",
    "        den=den*i\n",
    "    print(num,\"/\",den)\n",
    "    return num/den\n"
   ]
  },
  {
   "cell_type": "code",
   "execution_count": 12,
   "metadata": {
    "tags": []
   },
   "outputs": [
    {
     "output_type": "stream",
     "name": "stdout",
     "text": "[[4, 2, 1]]\n"
    }
   ],
   "source": [
    "testcase=int(input())\n",
    "\n",
    "info=[]\n",
    "for i in range(testcase):\n",
    "\n",
    "    temp=[]\n",
    "    temp=list(map(int,input().split()))\n",
    "    info.append(temp)\n",
    "print(info)"
   ]
  },
  {
   "cell_type": "code",
   "execution_count": 18,
   "metadata": {
    "tags": []
   },
   "outputs": [
    {
     "output_type": "stream",
     "name": "stdout",
     "text": "12 / 2\n6 / 2\nprobability= 0.5\noutput= 500000004\n"
    }
   ],
   "source": [
    "for i in range(testcase):\n",
    "    N,T,M=info[i]\n",
    "    nq_QuestionBank=N\n",
    "    nq_Exam=T\n",
    "    nq_Studied=M\n",
    "    \n",
    "    noOfWaysQuestionIsSelected=combination(nq_QuestionBank,nq_Exam)\n",
    "    noOfFailingStates=combination(nq_QuestionBank-nq_Studied,nq_Exam)\n",
    "    noOfPassingStates=noOfWaysQuestionIsSelected-noOfFailingStates\n",
    "    probability=noOfPassingStates/noOfWaysQuestionIsSelected\n",
    "    print(\"probability=\",probability)\n",
    "    print(\"output=\", round(1000000007*probability))"
   ]
  },
  {
   "cell_type": "code",
   "execution_count": null,
   "metadata": {},
   "outputs": [],
   "source": []
  }
 ],
 "metadata": {
  "language_info": {
   "codemirror_mode": {
    "name": "ipython",
    "version": 3
   },
   "file_extension": ".py",
   "mimetype": "text/x-python",
   "name": "python",
   "nbconvert_exporter": "python",
   "pygments_lexer": "ipython3",
   "version": "3.8.1-final"
  },
  "orig_nbformat": 2,
  "kernelspec": {
   "name": "python38164bit28a7993308564fccb6201ffd7f561ce4",
   "display_name": "Python 3.8.1 64-bit"
  }
 },
 "nbformat": 4,
 "nbformat_minor": 2
}