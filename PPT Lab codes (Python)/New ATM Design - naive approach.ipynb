{
 "cells": [
  {
   "cell_type": "code",
   "execution_count": null,
   "metadata": {},
   "outputs": [],
   "source": [
    "10\n",
    "1300\n",
    "10\n",
    "10\n",
    "10\n",
    "10\n",
    "\n",
    "\n",
    "\n",
    "\n",
    "5\n",
    "1700\n",
    "1\n",
    "2\n",
    "2\n",
    "2\n"
   ]
  },
  {
   "cell_type": "code",
   "execution_count": 3,
   "metadata": {
    "tags": []
   },
   "outputs": [
    {
     "output_type": "stream",
     "name": "stdout",
     "text": "currencyLimit= 10\namount= 1300\nno_100= 10\nno_200= 10\nno_500= 10\nno_1000= 10\n"
    }
   ],
   "source": [
    "currencyLimit=N=int(input())\n",
    "amount=int(input())\n",
    "no_100=int(input())\n",
    "no_200=int(input())\n",
    "no_500=int(input())\n",
    "no_1000=int(input())\n",
    "\n",
    "print(\"currencyLimit=\",currencyLimit)\n",
    "print(\"amount=\",amount)\n",
    "print(\"no_100=\",no_100)\n",
    "print(\"no_200=\",no_200)\n",
    "print(\"no_500=\",no_500)\n",
    "print(\"no_1000=\",no_1000)"
   ]
  },
  {
   "cell_type": "code",
   "execution_count": 10,
   "metadata": {},
   "outputs": [],
   "source": [
    "def naiveSolution(currencyLimit,amount):\n",
    "    #lst=[]\n",
    "    if amount<=no_100*100 and currencyLimit>=no_100:\n",
    "        res=amount//100\n",
    "        return res\n",
    "    max=0\n",
    "\n",
    "    for i in range(no_100):\n",
    "        for j in range(no_200):\n",
    "            if 100*i+200*j<amount and (i+j)<currencyLimit and (i+j)>=max:\n",
    "                max=i+j\n",
    "                for k in range(no_500):\n",
    "                    if no_100*i+no_200*j+no_500*k<amount and (i+j+k)<currencyLimit and (i+j+k)>=max:    \n",
    "                        for l in range(no_1000):\n",
    "                            #print(i,j,k,l)\n",
    "                            if 100*i + 200*j + 500*k + 1000*l==amount and (i+j+k+l)<=currencyLimit and (i+j+k+l)>=max:\n",
    "                                max=i+j+k+l\n",
    "                                #lst.append(i+j+k+l)\n",
    "                                #print(\"accepted\",i,j,k,l,(i+j+k+l))\n",
    "                    elif 100*i + 200*j + 500*k ==amount and (i+j+k)<=currencyLimit and (i+j+k)>=max:\n",
    "                        max=i+j+k\n",
    "                        #lst.append(i+j+k)\n",
    "                        #print(\"accepted\",i,j,k,0,(i+j+k))\n",
    "            \n",
    "            \n",
    "            elif 100*i + 200*j==amount and (i+j)<=currencyLimit and (i+j)>=max:\n",
    "                max=i+j\n",
    "                #lst.append(i+j)\n",
    "                #print(\"accepted\",i,j,0,0,(i+j))\n",
    "\n",
    "\n",
    "    \n",
    "\n",
    "    return max\n",
    "    #print(lst)\n",
    "    #lst.sort()\n",
    "    #print(lst)\n",
    "    #res=max(lst)\n",
    "    #return res"
   ]
  },
  {
   "cell_type": "code",
   "execution_count": 11,
   "metadata": {
    "tags": []
   },
   "outputs": [
    {
     "output_type": "stream",
     "name": "stdout",
     "text": "10\n"
    }
   ],
   "source": [
    "result=naiveSolution(currencyLimit,amount)\n",
    "print(result)"
   ]
  },
  {
   "cell_type": "code",
   "execution_count": null,
   "metadata": {},
   "outputs": [],
   "source": []
  }
 ],
 "metadata": {
  "language_info": {
   "codemirror_mode": {
    "name": "ipython",
    "version": 3
   },
   "file_extension": ".py",
   "mimetype": "text/x-python",
   "name": "python",
   "nbconvert_exporter": "python",
   "pygments_lexer": "ipython3",
   "version": "3.8.1-final"
  },
  "orig_nbformat": 2,
  "kernelspec": {
   "name": "python38164bit28a7993308564fccb6201ffd7f561ce4",
   "display_name": "Python 3.8.1 64-bit"
  }
 },
 "nbformat": 4,
 "nbformat_minor": 2
}