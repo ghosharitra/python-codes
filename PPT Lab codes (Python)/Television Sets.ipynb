{
 "cells": [
  {
   "cell_type": "code",
   "execution_count": null,
   "metadata": {},
   "outputs": [],
   "source": [
    "# Problem Description\n",
    "# Dr. Vishnu is opening a new world class hospital in a small\n",
    "# town designed to be the first preference of the patients in\n",
    "# the city. Hospital has N rooms of two types - with TV and\n",
    "# without TV, with daily rates of R1 and R2 respectively. \n",
    "# However, from his experience Dr. Vishnu knows that the\n",
    "# number of patients is not constant throughout the year,\n",
    "# instead it follows a pattern. The number of patients on any\n",
    "# given day of the year is given by the following formula – \n",
    "# (6-M)^2 + |D-15| where\n",
    "# M is the number of month (1 for jan, 2 for feb ...12 for dec)\n",
    "# and\n",
    "# D is the date (1,2...31).\n",
    "# All patients prefer without TV rooms as they are cheaper,\n",
    "# but will opt for with TV rooms only if without TV rooms are\n",
    "# not available. Hospital has a revenue target for the first\n",
    "# year of operation. Given this target and the values of N, R1\n",
    "# and R2 you need to identify the number of TVs the hospital\n",
    "# should buy so that it meets the revenue target. Assume the\n",
    "# Hospital opens on 1st Jan and year is a non-leap year. \n",
    "# Constraints\n",
    "# Hospital opens on 1st Jan in an ordinary year\n",
    "# 5 <= Number of rooms <= 100\n",
    "\n",
    "# 500 <= Room Rates <= 5000\n",
    "# 0 <= Target revenue < 90000000\n",
    "# Input Format\n",
    "# First line provides an integer N that denotes the number of\n",
    "# rooms in the hospital\n",
    "# Second line provides two space-delimited integers that\n",
    "# denote the rates of rooms with TV (R1) and without TV (R2)\n",
    "# respectively\n",
    "# Third line provides the revenue target\n",
    "# Output\n",
    "# Minimum number of TVs the hospital needs to buy to meet\n",
    "# its revenue target. If it cannot achieve its target, print the\n",
    "# total number of rooms in the hospital.\n",
    "# Timeout\n",
    "# 1\n",
    "# Test Case\n",
    "# Example 1\n",
    "# Input\n",
    "# 20\n",
    "# 1500 1000\n",
    "# 7000000\n",
    "# Output\n",
    "# 14 \n",
    "# Explanation\n",
    "# Using the formula, number of patients on 1st Jan will be\n",
    "# 39, on 2nd Jan will be 38 and so on. Considering there are\n",
    "# only twenty rooms and rates of both type of rooms are\n",
    "# 1500 and 1000 respectively, we will need 14 TV sets to get\n",
    "# revenue of 7119500. With 13 TV sets Total revenue will be\n",
    "# less than 7000000\n",
    "\n",
    "# Example 2\n",
    "# Input\n",
    "# 10\n",
    "# 1000 1500\n",
    "# 10000000\n",
    "# Output\n",
    "# 10\n",
    "# Explanation\n",
    "# In the above example, the target will not be achieved, even\n",
    "# by equipping all the rooms with TV. Hence, the answer is 10\n",
    "# i.e. total number of rooms in the hospital."
   ]
  },
  {
   "cell_type": "code",
   "execution_count": 30,
   "metadata": {
    "tags": []
   },
   "outputs": [
    {
     "output_type": "stream",
     "name": "stdout",
     "text": "[39, 38, 37, 36, 35, 34, 33, 32, 31, 30, 29, 28, 27, 26, 25, 26, 27, 28, 29, 30, 31, 32, 33, 34, 35, 36, 37, 38, 39, 40, 41, 30, 29, 28, 27, 26, 25, 24, 23, 22, 21, 20, 19, 18, 17, 16, 17, 18, 19, 20, 21, 22, 23, 24, 25, 26, 27, 28, 29, 23, 22, 21, 20, 19, 18, 17, 16, 15, 14, 13, 12, 11, 10, 9, 10, 11, 12, 13, 14, 15, 16, 17, 18, 19, 20, 21, 22, 23, 24, 25, 18, 17, 16, 15, 14, 13, 12, 11, 10, 9, 8, 7, 6, 5, 4, 5, 6, 7, 8, 9, 10, 11, 12, 13, 14, 15, 16, 17, 18, 19, 15, 14, 13, 12, 11, 10, 9, 8, 7, 6, 5, 4, 3, 2, 1, 2, 3, 4, 5, 6, 7, 8, 9, 10, 11, 12, 13, 14, 15, 16, 17, 14, 13, 12, 11, 10, 9, 8, 7, 6, 5, 4, 3, 2, 1, 0, 1, 2, 3, 4, 5, 6, 7, 8, 9, 10, 11, 12, 13, 14, 15, 15, 14, 13, 12, 11, 10, 9, 8, 7, 6, 5, 4, 3, 2, 1, 2, 3, 4, 5, 6, 7, 8, 9, 10, 11, 12, 13, 14, 15, 16, 17, 18, 17, 16, 15, 14, 13, 12, 11, 10, 9, 8, 7, 6, 5, 4, 5, 6, 7, 8, 9, 10, 11, 12, 13, 14, 15, 16, 17, 18, 19, 20, 23, 22, 21, 20, 19, 18, 17, 16, 15, 14, 13, 12, 11, 10, 9, 10, 11, 12, 13, 14, 15, 16, 17, 18, 19, 20, 21, 22, 23, 24, 30, 29, 28, 27, 26, 25, 24, 23, 22, 21, 20, 19, 18, 17, 16, 17, 18, 19, 20, 21, 22, 23, 24, 25, 26, 27, 28, 29, 30, 31, 32, 39, 38, 37, 36, 35, 34, 33, 32, 31, 30, 29, 28, 27, 26, 25, 26, 27, 28, 29, 30, 31, 32, 33, 34, 35, 36, 37, 38, 39, 40, 50, 49, 48, 47, 46, 45, 44, 43, 42, 41, 40, 39, 38, 37, 36, 37, 38, 39, 40, 41, 42, 43, 44, 45, 46, 47, 48, 49, 50, 51, 52]\n"
    }
   ],
   "source": [
    "days=[31,28,31,30,31,30,31,31,30,31,30,31]\n",
    "customers=[]\n",
    "for m in range(1,len(days)+1):\n",
    "    \n",
    "    #temp=[]\n",
    "    for d in range(1,days[m-1]+1):\n",
    "        #temp.append((6-m)**2 + abs(d-15))\n",
    "        customers.append((6-m)**2 + abs(d-15))\n",
    "    #customers.append(temp) \n",
    "print(customers)"
   ]
  },
  {
   "cell_type": "code",
   "execution_count": 31,
   "metadata": {
    "tags": []
   },
   "outputs": [
    {
     "output_type": "stream",
     "name": "stdout",
     "text": "[1, 4, 6, 6, 8, 10, 10, 10, 10, 12, 14, 14, 14, 14, 14, 13, 12, 14, 12, 10, 9, 8, 8, 8, 6, 7, 8, 8, 8, 8, 7, 5, 5, 4, 4, 4, 5, 6, 6, 6, 4, 3, 2, 2, 2, 2, 2, 2, 2, 2, 2, 1, 1]\n"
    }
   ],
   "source": [
    "ucust=list(set(customers))\n",
    "custfreq=[]\n",
    "\n",
    "for i in range(min(customers),max(customers)+1):\n",
    "    count=0\n",
    "    for j in customers:\n",
    "        if i==j:\n",
    "            count=count+1\n",
    "    custfreq.append(count)\n",
    "\n",
    "print(custfreq)\n",
    "\n"
   ]
  },
  {
   "cell_type": "code",
   "execution_count": 37,
   "metadata": {},
   "outputs": [],
   "source": [
    "rooms=int(input())\n",
    "sp_rate,nm_rate=map(int,input().split())\n",
    "revenue=int(input())"
   ]
  },
  {
   "cell_type": "code",
   "execution_count": 18,
   "metadata": {},
   "outputs": [
    {
     "output_type": "execute_result",
     "data": {
      "text/plain": "53"
     },
     "metadata": {},
     "execution_count": 18
    }
   ],
   "source": [
    "len(custfreq)"
   ]
  },
  {
   "cell_type": "code",
   "execution_count": 38,
   "metadata": {
    "tags": []
   },
   "outputs": [
    {
     "output_type": "stream",
     "name": "stdout",
     "text": "output: 14\n"
    }
   ],
   "source": [
    "\n",
    "for no_sp_room in range(rooms+1):\n",
    "    #print(\"SPECIAL ROOMS = \",no_sp_room)\n",
    "    no_nm_room=rooms-no_sp_room\n",
    "    total=0\n",
    "    for i in range(len(custfreq)):\n",
    "        \n",
    "        if i<=no_nm_room:\n",
    "            #print(1)\n",
    "            add=custfreq[i]*( i*nm_rate )\n",
    "            total = total + add\n",
    "            #print(\"add: \",add)\n",
    "        elif no_nm_room<i and i<rooms:\n",
    "            #print(2)\n",
    "            add=custfreq[i]*( (i-no_nm_room)*sp_rate + no_nm_room*nm_rate )\n",
    "            total = total + add\n",
    "            #print(\"add: \",add)\n",
    "        elif i>=rooms:\n",
    "            #print(3)\n",
    "            add=custfreq[i]*(no_sp_room*sp_rate + no_nm_room*nm_rate)\n",
    "            total = total + add\n",
    "            #print(\"add: \",add)\n",
    "        #print(\"total: \",total)\n",
    "    if total>=revenue or no_sp_room==rooms:\n",
    "        print(\"output:\",no_sp_room)\n",
    "        break\n",
    "            \n",
    "\n"
   ]
  },
  {
   "cell_type": "code",
   "execution_count": null,
   "metadata": {},
   "outputs": [],
   "source": []
  }
 ],
 "metadata": {
  "language_info": {
   "codemirror_mode": {
    "name": "ipython",
    "version": 3
   },
   "file_extension": ".py",
   "mimetype": "text/x-python",
   "name": "python",
   "nbconvert_exporter": "python",
   "pygments_lexer": "ipython3",
   "version": "3.8.1-final"
  },
  "orig_nbformat": 2,
  "kernelspec": {
   "name": "python38164bit28a7993308564fccb6201ffd7f561ce4",
   "display_name": "Python 3.8.1 64-bit"
  }
 },
 "nbformat": 4,
 "nbformat_minor": 2
}