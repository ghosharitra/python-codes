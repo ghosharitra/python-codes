{
 "cells": [
  {
   "cell_type": "code",
   "execution_count": 1,
   "metadata": {},
   "outputs": [],
   "source": [
    "no_balloon=int(input())\n",
    "balloon_radius=list(map(int,input().split()))\n",
    "percentage_reduction_rate=int(input())"
   ]
  },
  {
   "cell_type": "code",
   "execution_count": 26,
   "metadata": {},
   "outputs": [],
   "source": [
    "def merge(a,b):\n",
    "    arr=[]\n",
    "    i=0\n",
    "    j=0\n",
    "    while i<len(a) and j<len(b):\n",
    "       if a[i]<b[j]:\n",
    "           arr.append(a[i])\n",
    "           i+=1\n",
    "       else:\n",
    "           arr.append(b[j])\n",
    "           j+=1\n",
    "\n",
    "    for k in range(i,len(a)):\n",
    "        arr.append(a[i])\n",
    "\n",
    "    for k in range(j, len(b)):\n",
    "        arr.append(b[j])\n",
    "\n",
    "    return arr\n",
    "\n",
    "def sort(arr):\n",
    "  if len(arr)==1:\n",
    "      #print(\"arr=\",arr)\n",
    "      return arr\n",
    "  else:\n",
    "        mid=(len(arr))//2\n",
    "        #print(\"mid= \",mid)\n",
    "        #print(\"arr[:mid]= \", arr[:mid])\n",
    "        #print(\"arr[mid:]= \",arr[mid:])\n",
    "\n",
    "        a=sort(arr[:mid])\n",
    "        b=sort(arr[mid:])\n",
    "        arr= merge(a,b)\n",
    "        #print(arr)\n",
    "        return arr"
   ]
  },
  {
   "cell_type": "code",
   "execution_count": 27,
   "metadata": {},
   "outputs": [],
   "source": [
    "def reduced_volume(radius,x):\n",
    "    volume=(4/3)*(3.14)*radius**3\n",
    "    for i in range(x):\n",
    "        volume=volume-volume*(percentage_reduction_rate/100)\n",
    "        if volume<0:\n",
    "            return 0\n",
    "    print(volume)\n",
    "    return volume\n",
    "\n"
   ]
  },
  {
   "cell_type": "code",
   "execution_count": 29,
   "metadata": {
    "tags": []
   },
   "outputs": [
    {
     "output_type": "stream",
     "name": "stdout",
     "text": "[3, 4, 6, 8, 10]\n74.165544\n195.33311999999998\n732.4992\n1929.216\n4186.666666666667\n7117.88\n"
    }
   ],
   "source": [
    "ordered_balloons=sort(balloon_radius)\n",
    "print(ordered_balloons)\n",
    "i=0\n",
    "total_volume=0\n",
    "while i<no_balloon:\n",
    "    total_volume=total_volume+reduced_volume(ordered_balloons[i],no_balloon-(i+1))\n",
    "    i+=1\n",
    "print(\"{:.2f}\".format(total_volume))"
   ]
  },
  {
   "cell_type": "code",
   "execution_count": null,
   "metadata": {},
   "outputs": [],
   "source": []
  },
  {
   "cell_type": "code",
   "execution_count": null,
   "metadata": {},
   "outputs": [],
   "source": []
  }
 ],
 "metadata": {
  "language_info": {
   "codemirror_mode": {
    "name": "ipython",
    "version": 3
   },
   "file_extension": ".py",
   "mimetype": "text/x-python",
   "name": "python",
   "nbconvert_exporter": "python",
   "pygments_lexer": "ipython3",
   "version": "3.8.1-final"
  },
  "orig_nbformat": 2,
  "kernelspec": {
   "name": "python38164bit28a7993308564fccb6201ffd7f561ce4",
   "display_name": "Python 3.8.1 64-bit"
  }
 },
 "nbformat": 4,
 "nbformat_minor": 2
}