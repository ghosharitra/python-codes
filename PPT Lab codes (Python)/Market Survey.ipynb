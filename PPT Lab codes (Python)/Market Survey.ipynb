{
 "cells": [
  {
   "cell_type": "code",
   "execution_count": 4,
   "metadata": {
    "tags": []
   },
   "outputs": [
    {
     "output_type": "stream",
     "name": "stdout",
     "text": "10 \n 2 \n\n[1, 2, 3, 4, 1, 2, 3, 4, 1, 2] \n\n[1, 2, 4, 4, 3, 2, 3, 1, 1, 3] \n\n[2, 3, 4, 4, 1, 2, 3, 1, 1, 2] \n\n"
    }
   ],
   "source": [
    "no_questions=int(input())\n",
    "no_participants=int(input())\n",
    "def_response=[]\n",
    "\n",
    "for i in range(no_participants+1):\n",
    "    temp=list(map(int,input().split()))\n",
    "    def_response.append(temp)\n",
    "print(no_questions,\"\\n\",no_participants,\"\\n\")\n",
    "for i in def_response:\n",
    "    print(i,\"\\n\")\n"
   ]
  },
  {
   "cell_type": "code",
   "execution_count": null,
   "metadata": {},
   "outputs": [],
   "source": [
    "def majority(def_response,m,n):\n",
    "\n",
    "    for i in range(m):\n",
    "        def_response[i][n]"
   ]
  },
  {
   "cell_type": "code",
   "execution_count": null,
   "metadata": {},
   "outputs": [],
   "source": [
    "def solution(no_questions,no_participants,def_response):\n",
    "    no_option=4\n",
    "    question_option=[]\n",
    "    instant_result=[]\n",
    "    final_result=[]\n",
    "    i=0\n",
    "\n",
    "    for j in range(no_participants):\n",
    "            instant_result.append(0)\n",
    "    for j in range(no_option):\n",
    "            question_option.append(0)\n",
    "\n",
    "    while i<no_questions:\n",
    "        \n",
    "        \n",
    "        j=0\n",
    "        while j<no_participants:\n",
    "            question_option[ def_response[j][i]-1 ]+=1\n",
    "            count=max(question_option)\n",
    "       \n",
    "            #maj,count=majority(def_response,i,j)\n",
    "            if maj==def_response[j+1][i]:\n",
    "                instant_result[j]+=1\n",
    "\n",
    "\n",
    "        for j in range(no_option):\n",
    "            question_option[j]=0\n",
    "\n",
    "\n",
    "\n",
    "    print(instant_result)"
   ]
  },
  {
   "cell_type": "code",
   "execution_count": null,
   "metadata": {},
   "outputs": [],
   "source": [
    "solution(no_questions,no_participants,def_response)"
   ]
  }
 ],
 "metadata": {
  "language_info": {
   "codemirror_mode": {
    "name": "ipython",
    "version": 3
   },
   "file_extension": ".py",
   "mimetype": "text/x-python",
   "name": "python",
   "nbconvert_exporter": "python",
   "pygments_lexer": "ipython3",
   "version": "3.8.1-final"
  },
  "orig_nbformat": 2,
  "kernelspec": {
   "name": "python38164bit28a7993308564fccb6201ffd7f561ce4",
   "display_name": "Python 3.8.1 64-bit"
  }
 },
 "nbformat": 4,
 "nbformat_minor": 2
}