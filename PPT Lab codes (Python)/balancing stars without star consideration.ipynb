{
 "cells": [
  {
   "cell_type": "code",
   "execution_count": null,
   "metadata": {},
   "outputs": [],
   "source": [
    "{**}\n",
    "{**(**{**[**]})}\n",
    "**}xasd[**]sda231\n",
    "{)}\n",
    "{)[}(]\n",
    "{}{{{}}}())(()][][]}}}]]\n"
   ]
  },
  {
   "cell_type": "code",
   "execution_count": 12,
   "metadata": {
    "tags": []
   },
   "outputs": [
    {
     "output_type": "stream",
     "name": "stdout",
     "text": "{}{{{}}}())(()][][]}}}]]\n"
    }
   ],
   "source": [
    "string=input()\n",
    "print(string)"
   ]
  },
  {
   "cell_type": "code",
   "execution_count": 13,
   "metadata": {},
   "outputs": [],
   "source": [
    "def solution(string,l=0,mode=\"b\",bracket=None,result=\"\",pair=0):\n",
    "    \n",
    "    \n",
    "\n",
    "    while True:\n",
    "        if l<len(string):\n",
    "            print(\"length=\",len(string),\"l=\",l,\"char=\",string[l], \"bracket=\",bracket,\"mode=\",mode,\"result=\",result,\"pair=\",pair)\n",
    "\n",
    "        if l==len(string):\n",
    "            print(\"length=\",len(string),\"l=\",l,\"char= null\", \"bracket=\",bracket,\"mode=\",mode,\"result=\",result,\"pair=\",pair)\n",
    "            print(\"condition 1\")\n",
    "            if result==\"\":\n",
    "                result=\"Yes\"\n",
    "                return result,pair,l\n",
    "            elif mode==\"u\":\n",
    "                result=\"No\"\n",
    "                return result,pair,l\n",
    "            else:\n",
    "                return result,pair,l\n",
    "\n",
    "        if mode==\"b\" and (string[l]==\")\" or string[l]==\"]\" or string[l]==\"}\"):\n",
    "            print(\"condition 2\")\n",
    "            result=\"No\"\n",
    "            l=l+1\n",
    "        \n",
    "    \n",
    "        elif string[l]==\"(\" or string[l]==\"[\" or string[l]==\"{\" :    \n",
    "            print(\"condition 3\")\n",
    "            \n",
    "            if string[l]==\"(\":\n",
    "                l=l+1\n",
    "                result,pair,l=solution(string,l,\"u\",\"(\",result,pair)\n",
    "            elif string[l]==\"[\":\n",
    "                l=l+1\n",
    "                result,pair,l=solution(string,l,\"u\",\"[\",result,pair)\n",
    "            elif string[l]==\"{\":\n",
    "                l=l+1\n",
    "                result,pair,l=solution(string,l,\"u\",\"{\",result,pair)\n",
    "\n",
    "        elif mode==\"u\":\n",
    "            print(\"condition 4\")\n",
    "            if bracket==\"(\" and string[l]==\")\":\n",
    "                l=l+1\n",
    "                pair=pair+1\n",
    "                return result,pair,l\n",
    "            elif bracket==\"[\" and string[l]==\"]\":\n",
    "                l=l+1\n",
    "                pair=pair+1\n",
    "                return result,pair,l\n",
    "            elif bracket==\"{\" and string[l]==\"}\":\n",
    "                l=l+1\n",
    "                pair=pair+1\n",
    "                return result,pair,l\n",
    "            else:\n",
    "                if bracket==\"(\" and (string[l]==\"]\" or string[l]==\"}\"):\n",
    "                    result=\"No\"\n",
    "                elif bracket==\"[\" and (string[l]==\")\" or string[l]==\"}\"):\n",
    "                    result=\"No\"\n",
    "                elif bracket==\"{\" and (string[l]==\")\" or string[l]==\"]\"):\n",
    "                    result=\"No\"\n",
    "                l=l+1\n",
    "        else:\n",
    "            print(\"condition 5\")\n",
    "            l=l+1\n",
    "\n",
    "        \n",
    "\n"
   ]
  },
  {
   "cell_type": "code",
   "execution_count": 14,
   "metadata": {
    "tags": []
   },
   "outputs": [
    {
     "output_type": "stream",
     "name": "stdout",
     "text": "length= 24 l= 0 char= { bracket= None mode= b result=  pair= 0\ncondition 3\nlength= 24 l= 1 char= } bracket= { mode= u result=  pair= 0\ncondition 4\nlength= 24 l= 2 char= { bracket= None mode= b result=  pair= 1\ncondition 3\nlength= 24 l= 3 char= { bracket= { mode= u result=  pair= 1\ncondition 3\nlength= 24 l= 4 char= { bracket= { mode= u result=  pair= 1\ncondition 3\nlength= 24 l= 5 char= } bracket= { mode= u result=  pair= 1\ncondition 4\nlength= 24 l= 6 char= } bracket= { mode= u result=  pair= 2\ncondition 4\nlength= 24 l= 7 char= } bracket= { mode= u result=  pair= 3\ncondition 4\nlength= 24 l= 8 char= ( bracket= None mode= b result=  pair= 4\ncondition 3\nlength= 24 l= 9 char= ) bracket= ( mode= u result=  pair= 4\ncondition 4\nlength= 24 l= 10 char= ) bracket= None mode= b result=  pair= 5\ncondition 2\nlength= 24 l= 11 char= ( bracket= None mode= b result= No pair= 5\ncondition 3\nlength= 24 l= 12 char= ( bracket= ( mode= u result= No pair= 5\ncondition 3\nlength= 24 l= 13 char= ) bracket= ( mode= u result= No pair= 5\ncondition 4\nlength= 24 l= 14 char= ] bracket= ( mode= u result= No pair= 6\ncondition 4\nlength= 24 l= 15 char= [ bracket= ( mode= u result= No pair= 6\ncondition 3\nlength= 24 l= 16 char= ] bracket= [ mode= u result= No pair= 6\ncondition 4\nlength= 24 l= 17 char= [ bracket= ( mode= u result= No pair= 7\ncondition 3\nlength= 24 l= 18 char= ] bracket= [ mode= u result= No pair= 7\ncondition 4\nlength= 24 l= 19 char= } bracket= ( mode= u result= No pair= 8\ncondition 4\nlength= 24 l= 20 char= } bracket= ( mode= u result= No pair= 8\ncondition 4\nlength= 24 l= 21 char= } bracket= ( mode= u result= No pair= 8\ncondition 4\nlength= 24 l= 22 char= ] bracket= ( mode= u result= No pair= 8\ncondition 4\nlength= 24 l= 23 char= ] bracket= ( mode= u result= No pair= 8\ncondition 4\nlength= 24 l= 24 char= null bracket= ( mode= u result= No pair= 8\ncondition 1\nlength= 24 l= 24 char= null bracket= None mode= b result= No pair= 8\ncondition 1\nNo 8\n"
    }
   ],
   "source": [
    "result,pair,l=solution(string)\n",
    "\n",
    "print(result,pair)"
   ]
  },
  {
   "cell_type": "code",
   "execution_count": null,
   "metadata": {},
   "outputs": [],
   "source": []
  }
 ],
 "metadata": {
  "language_info": {
   "codemirror_mode": {
    "name": "ipython",
    "version": 3
   },
   "file_extension": ".py",
   "mimetype": "text/x-python",
   "name": "python",
   "nbconvert_exporter": "python",
   "pygments_lexer": "ipython3",
   "version": "3.8.1-final"
  },
  "orig_nbformat": 2,
  "kernelspec": {
   "name": "python38164bit28a7993308564fccb6201ffd7f561ce4",
   "display_name": "Python 3.8.1 64-bit"
  }
 },
 "nbformat": 4,
 "nbformat_minor": 2
}