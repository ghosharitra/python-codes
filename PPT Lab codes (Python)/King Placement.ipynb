{
 "cells": [
  {
   "cell_type": "code",
   "execution_count": null,
   "metadata": {},
   "outputs": [],
   "source": [
    "\n",
    "4 16\n",
    "2 [[0, 0], [1, 1]]\n",
    "1 [[2, 2]]\n",
    "0 []\n",
    "1 [[3, 3]]\n",
    "\n",
    "\n",
    "\n",
    "\n",
    "\n",
    "\n",
    "\n",
    "\n",
    "\n",
    "\n",
    "\n",
    "\n",
    "8 64\n",
    "4 [[2, 6], [3, 2], [5, 6], [7, 7]]\n",
    "4 [[2, 2], [4, 6], [6, 4], [7, 5]]\n",
    "4 [[0, 4], [1, 1], [1, 6], [5, 1]]\n",
    "2 [[3, 5], [6, 0]]"
   ]
  },
  {
   "cell_type": "code",
   "execution_count": 123,
   "metadata": {
    "tags": []
   },
   "outputs": [
    {
     "output_type": "stream",
     "name": "stdout",
     "text": "8 64\n4 [[2, 6], [3, 2], [5, 6], [7, 7]]\n4 [[2, 2], [4, 6], [6, 4], [7, 5]]\n4 [[0, 4], [1, 1], [1, 6], [5, 1]]\n2 [[3, 5], [6, 0]]\n"
    }
   ],
   "source": [
    "length=int(input())\n",
    "size=length*length\n",
    "\n",
    "no_knights=int(input())\n",
    "knights=[]\n",
    "for i in range(no_knights):\n",
    "    knights.append(list(map (int,input().split() ) ))\n",
    "\n",
    "no_rooks=int(input())\n",
    "rooks=[]\n",
    "for i in range(no_rooks):\n",
    "    rooks.append(list(map (int,input().split() ) ))\n",
    "\n",
    "no_bishops=int(input())\n",
    "bishops=[]\n",
    "for i in range(no_bishops):\n",
    "    bishops.append(list(map (int,input().split() ) ))\n",
    "\n",
    "no_queens=int(input())\n",
    "queens=[]\n",
    "for i in range(no_queens):\n",
    "    queens.append(list(map (int,input().split() ) ))\n",
    "\n",
    "print(length,size)\n",
    "print(no_knights,knights )\n",
    "print(no_rooks,rooks )\n",
    "print(no_bishops,bishops )\n",
    "print(no_queens,queens )"
   ]
  },
  {
   "cell_type": "code",
   "execution_count": 193,
   "metadata": {
    "tags": []
   },
   "outputs": [],
   "source": [
    "def clear_Board():\n",
    "    board=[]\n",
    "    for i in range(length):\n",
    "        board.append([0]*length)\n",
    "    return board"
   ]
  },
  {
   "cell_type": "code",
   "execution_count": 194,
   "metadata": {
    "tags": []
   },
   "outputs": [],
   "source": [
    "def put_Knights(board):\n",
    "    for i in range(no_knights):\n",
    "        x,y=knights[i]\n",
    "\n",
    "        if x-2>=0 and y-1>=0 and (board[x][y]!='K' or board[x][y]!='R' or board[x][y]!='B' or board[x][y]!='Q'):\n",
    "            board[x-2][y-1]='k'\n",
    "        if x-2>=0 and y+1<length and (board[x][y]!='K' or board[x][y]!='R' or board[x][y]!='B' or board[x][y]!='Q'):\n",
    "            board[x-2][y+1]='k'     \n",
    "        if x-1>=0 and y-2>=0 and (board[x][y]!='K' or board[x][y]!='R' or board[x][y]!='B' or board[x][y]!='Q'):\n",
    "            board[x-1][y-2]='k'\n",
    "        if x-1>=0 and y+2<length and (board[x][y]!='K' or board[x][y]!='R' or board[x][y]!='B' or board[x][y]!='Q'):\n",
    "            board[x-1][y+2]='k'\n",
    "        if x+1<length and y-2>=0 and (board[x][y]!='K' or board[x][y]!='R' or board[x][y]!='B' or board[x][y]!='Q'):\n",
    "            board[x+1][y-2]='k'    \n",
    "        if x+1<length and y+2<length and (board[x][y]!='K' or board[x][y]!='R' or board[x][y]!='B' or board[x][y]!='Q'):\n",
    "            board[x+1][y+2]='k'    \n",
    "        if x+2<length and y-1<length and (board[x][y]!='K' or board[x][y]!='R' or board[x][y]!='B' or board[x][y]!='Q'):\n",
    "            board[x+2][y-1]='k'\n",
    "        if x+2<length and y+1<length and (board[x][y]!='K' or board[x][y]!='R' or board[x][y]!='B' or board[x][y]!='Q'):\n",
    "            board[x+2][y+1]='k'\n",
    "\n",
    "        print(\" \",end=\"\")\n",
    "        for l in range(length):\n",
    "            print(\" \",l,end=\"\")\n",
    "        print()\n",
    "        for k in range(length):\n",
    "            print(k,end=\"\")\n",
    "            for l in range(length):\n",
    "                print(\" \",board[k][l],end=\"\")\n",
    "                \n",
    "            print()\n",
    "        print(\"\\n\\n\\n\")"
   ]
  },
  {
   "cell_type": "code",
   "execution_count": 195,
   "metadata": {
    "tags": []
   },
   "outputs": [],
   "source": [
    "def put_Rooks(board):\n",
    "    for i in range(no_rooks):\n",
    "        x,y=rooks[i]\n",
    "        for j in range(length):\n",
    "            board[x][j]='r'\n",
    "        for j in range(length):\n",
    "            board[j][y]='r'\n",
    "        \n",
    "\n",
    "        print(\" \",end=\"\")\n",
    "        for l in range(length):\n",
    "            print(\" \",l,end=\"\")\n",
    "        print()\n",
    "        for k in range(length):\n",
    "            print(k,end=\"\")\n",
    "            for l in range(length):\n",
    "                print(\" \",board[k][l],end=\"\")\n",
    "                \n",
    "            print()\n",
    "        print(\"\\n\\n\\n\")"
   ]
  },
  {
   "cell_type": "code",
   "execution_count": 196,
   "metadata": {
    "tags": []
   },
   "outputs": [],
   "source": [
    "def put_Bishops(board):\n",
    "    for i in range(no_bishops):\n",
    "        x,y=bishops[i]\n",
    "\n",
    "\n",
    "        if x>=y:\n",
    "            diff=x-y\n",
    "            for j in range(diff,length):\n",
    "                print(\"i,j=\",j,j-diff)\n",
    "                board[j][j-diff]='b'\n",
    "        else:\n",
    "            diff=y-x\n",
    "            for j in range(diff,length):\n",
    "                print(\"i,j=\",j-diff,j)\n",
    "                board[j-diff][j]='b'\n",
    "\n",
    "\n",
    "        for j in range(x+y,-1,-1):\n",
    "            if(0<=j and j<length) and (0<=x+y-j and x+y-j<length):\n",
    "                print(\"i,j=\",j,x+y-j)\n",
    "                board[j][x+y-j]='b'\n",
    "\n",
    "        print(\" \",end=\"\")\n",
    "        for l in range(length):\n",
    "            print(\" \",l,end=\"\")\n",
    "        print()\n",
    "\n",
    "        for k in range(length):\n",
    "            print(k,end=\"\")\n",
    "            for l in range(length):\n",
    "                print(\" \",board[k][l],end=\"\")\n",
    "                \n",
    "            print()\n",
    "        print(\"\\n\\n\\n\")\n",
    "\n",
    "\n"
   ]
  },
  {
   "cell_type": "code",
   "execution_count": 197,
   "metadata": {},
   "outputs": [],
   "source": [
    "def put_Queens(board):\n",
    "    for i in range(no_queens):\n",
    "        x,y=queens[i]\n",
    "\n",
    "\n",
    "        for j in range(length):\n",
    "            board[x][j]='q'\n",
    "        for j in range(length):\n",
    "            board[j][y]='q'\n",
    "\n",
    "        if x>=y:\n",
    "            diff=x-y\n",
    "            for j in range(diff,length):\n",
    "                board[j][j-diff]='q'\n",
    "\n",
    "\n",
    "\n",
    "        \n",
    "        else:\n",
    "            diff=y-x\n",
    "            for j in range(diff,length):\n",
    "                board[j-diff][j]='q'\n",
    "\n",
    "\n",
    "        for j in range(x+y,-1,-1):\n",
    "            if(0<=j and j<length) and (0<=x+y-j and x+y-j<length):\n",
    "                board[j][x+y-j]='q'\n",
    "\n",
    "\n",
    "        print(\" \",end=\"\")\n",
    "        for l in range(length):\n",
    "            print(\" \",l,end=\"\")\n",
    "        print()\n",
    "        for k in range(length):\n",
    "            print(k,end=\"\")\n",
    "            for l in range(length):\n",
    "                print(\" \",board[k][l],end=\"\")\n",
    "                \n",
    "            print()\n",
    "        print(\"\\n\\n\\n\")"
   ]
  },
  {
   "cell_type": "code",
   "execution_count": 198,
   "metadata": {},
   "outputs": [],
   "source": [
    "def solution():\n",
    "    board=clear_Board()\n",
    "    \n",
    "    \n",
    "    for i in range(no_knights):\n",
    "        x,y=knights[i]\n",
    "        board[x][y]='K'\n",
    "\n",
    "        print(\"KNIGHTS:\",x,y)\n",
    "\n",
    "    for i in range(no_rooks):\n",
    "        x,y=rooks[i]\n",
    "        board[x][y]='R'\n",
    "\n",
    "        print(\"ROOKS:\",x,y)\n",
    "\n",
    "\n",
    "    for i in range(no_bishops):\n",
    "        x,y=bishops[i]\n",
    "        print(\"BISHOPS:\",x,y)\n",
    "        board[x][y]='B'\n",
    "\n",
    "\n",
    "    for i in range(no_queens):\n",
    "        x,y=queens[i]\n",
    "        print(\"QUEEN:\",x,y)\n",
    "        board[x][y]='Q'\n",
    "\n",
    "    \n",
    "    print(\" \",end=\"\")\n",
    "    for l in range(length):\n",
    "        print(\" \",l,end=\"\")\n",
    "    print()\n",
    "\n",
    "   \n",
    "    for k in range(length):\n",
    "        print(k,end=\"\")\n",
    "        for l in range(length):\n",
    "            print(\" \",board[k][l],end=\"\")\n",
    " \n",
    "        print()\n",
    "    print(\"\\n\\n\\n\")\n",
    "\n",
    "\n",
    "\n",
    "    put_Bishops(board)\n",
    "    put_Knights(board)\n",
    "    put_Rooks(board)\n",
    "    put_Queens(board)\n",
    "\n",
    "    print(\" \",end=\"\")\n",
    "    for l in range(length):\n",
    "        print(\" \",l,end=\"\")\n",
    "    print()\n",
    "\n",
    "    count=0\n",
    "    for k in range(length):\n",
    "        print(k,end=\"\")\n",
    "        for l in range(length):\n",
    "            print(\" \",board[k][l],end=\"\")\n",
    "            if board[k][l]==0:\n",
    "                count=count+1\n",
    "        print()\n",
    "    print(\"\\n\\n\\n\")\n",
    "    return count"
   ]
  },
  {
   "cell_type": "code",
   "execution_count": 199,
   "metadata": {
    "tags": []
   },
   "outputs": [
    {
     "output_type": "stream",
     "name": "stdout",
     "text": "KNIGHTS: 2 6\nKNIGHTS: 3 2\nKNIGHTS: 5 6\nKNIGHTS: 7 7\nROOKS: 2 2\nROOKS: 4 6\nROOKS: 6 4\nROOKS: 7 5\nBISHOPS: 0 4\nBISHOPS: 1 1\nBISHOPS: 1 6\nBISHOPS: 5 1\nQUEEN: 3 5\nQUEEN: 6 0\n   0  1  2  3  4  5  6  7\n0  0  0  0  0  B  0  0  0\n1  0  B  0  0  0  0  B  0\n2  0  0  R  0  0  0  K  0\n3  0  0  K  0  0  Q  0  0\n4  0  0  0  0  0  0  R  0\n5  0  B  0  0  0  0  K  0\n6  Q  0  0  0  R  0  0  0\n7  0  0  0  0  0  R  0  K\n\n\n\n\ni,j= 0 4\ni,j= 1 5\ni,j= 2 6\ni,j= 3 7\ni,j= 4 0\ni,j= 3 1\ni,j= 2 2\ni,j= 1 3\ni,j= 0 4\n   0  1  2  3  4  5  6  7\n0  0  0  0  0  b  0  0  0\n1  0  B  0  b  0  b  B  0\n2  0  0  b  0  0  0  b  0\n3  0  b  K  0  0  Q  0  b\n4  b  0  0  0  0  0  R  0\n5  0  B  0  0  0  0  K  0\n6  Q  0  0  0  R  0  0  0\n7  0  0  0  0  0  R  0  K\n\n\n\n\ni,j= 0 0\ni,j= 1 1\ni,j= 2 2\ni,j= 3 3\ni,j= 4 4\ni,j= 5 5\ni,j= 6 6\ni,j= 7 7\ni,j= 2 0\ni,j= 1 1\ni,j= 0 2\n   0  1  2  3  4  5  6  7\n0  b  0  b  0  b  0  0  0\n1  0  b  0  b  0  b  B  0\n2  b  0  b  0  0  0  b  0\n3  0  b  K  b  0  Q  0  b\n4  b  0  0  0  b  0  R  0\n5  0  B  0  0  0  b  K  0\n6  Q  0  0  0  R  0  b  0\n7  0  0  0  0  0  R  0  b\n\n\n\n\ni,j= 0 5\ni,j= 1 6\ni,j= 2 7\ni,j= 7 0\ni,j= 6 1\ni,j= 5 2\ni,j= 4 3\ni,j= 3 4\ni,j= 2 5\ni,j= 1 6\ni,j= 0 7\n   0  1  2  3  4  5  6  7\n0  b  0  b  0  b  b  0  b\n1  0  b  0  b  0  b  b  0\n2  b  0  b  0  0  b  b  b\n3  0  b  K  b  b  Q  0  b\n4  b  0  0  b  b  0  R  0\n5  0  B  b  0  0  b  K  0\n6  Q  b  0  0  R  0  b  0\n7  b  0  0  0  0  R  0  b\n\n\n\n\ni,j= 4 0\ni,j= 5 1\ni,j= 6 2\ni,j= 7 3\ni,j= 6 0\ni,j= 5 1\ni,j= 4 2\ni,j= 3 3\ni,j= 2 4\ni,j= 1 5\ni,j= 0 6\n   0  1  2  3  4  5  6  7\n0  b  0  b  0  b  b  b  b\n1  0  b  0  b  0  b  b  0\n2  b  0  b  0  b  b  b  b\n3  0  b  K  b  b  Q  0  b\n4  b  0  b  b  b  0  R  0\n5  0  b  b  0  0  b  K  0\n6  b  b  b  0  R  0  b  0\n7  b  0  0  b  0  R  0  b\n\n\n\n\n   0  1  2  3  4  5  6  7\n0  b  0  b  0  b  k  b  k\n1  0  b  0  b  k  b  b  0\n2  b  0  b  0  b  b  b  b\n3  0  b  K  b  k  Q  0  b\n4  b  0  b  b  b  k  R  k\n5  0  b  b  0  0  b  K  0\n6  b  b  b  0  R  0  b  0\n7  b  0  0  b  0  R  0  b\n\n\n\n\n   0  1  2  3  4  5  6  7\n0  b  0  b  0  b  k  b  k\n1  0  k  0  k  k  b  b  0\n2  k  0  b  0  k  b  b  b\n3  0  b  K  b  k  Q  0  b\n4  k  0  b  b  k  k  R  k\n5  0  k  b  k  0  b  K  0\n6  b  b  b  0  R  0  b  0\n7  b  0  0  b  0  R  0  b\n\n\n\n\n   0  1  2  3  4  5  6  7\n0  b  0  b  0  b  k  b  k\n1  0  k  0  k  k  b  b  0\n2  k  0  b  0  k  b  b  b\n3  0  b  K  b  k  k  0  k\n4  k  0  b  b  k  k  R  k\n5  0  k  b  k  0  b  K  0\n6  b  b  b  0  k  0  b  0\n7  b  0  0  b  0  k  0  k\n\n\n\n\n   0  1  2  3  4  5  6  7\n0  b  0  b  0  b  k  b  k\n1  0  k  0  k  k  b  b  0\n2  k  0  b  0  k  b  b  b\n3  0  b  K  b  k  k  0  k\n4  k  0  b  b  k  k  R  k\n5  0  k  b  k  0  b  k  0\n6  b  b  b  0  k  k  b  0\n7  b  0  0  b  0  k  0  k\n\n\n\n\n   0  1  2  3  4  5  6  7\n0  b  0  r  0  b  k  b  k\n1  0  k  r  k  k  b  b  0\n2  r  r  r  r  r  r  r  r\n3  0  b  r  b  k  k  0  k\n4  k  0  r  b  k  k  R  k\n5  0  k  r  k  0  b  k  0\n6  b  b  r  0  k  k  b  0\n7  b  0  r  b  0  k  0  k\n\n\n\n\n   0  1  2  3  4  5  6  7\n0  b  0  r  0  b  k  r  k\n1  0  k  r  k  k  b  r  0\n2  r  r  r  r  r  r  r  r\n3  0  b  r  b  k  k  r  k\n4  r  r  r  r  r  r  r  r\n5  0  k  r  k  0  b  r  0\n6  b  b  r  0  k  k  r  0\n7  b  0  r  b  0  k  r  k\n\n\n\n\n   0  1  2  3  4  5  6  7\n0  b  0  r  0  r  k  r  k\n1  0  k  r  k  r  b  r  0\n2  r  r  r  r  r  r  r  r\n3  0  b  r  b  r  k  r  k\n4  r  r  r  r  r  r  r  r\n5  0  k  r  k  r  b  r  0\n6  r  r  r  r  r  r  r  r\n7  b  0  r  b  r  k  r  k\n\n\n\n\n   0  1  2  3  4  5  6  7\n0  b  0  r  0  r  r  r  k\n1  0  k  r  k  r  r  r  0\n2  r  r  r  r  r  r  r  r\n3  0  b  r  b  r  r  r  k\n4  r  r  r  r  r  r  r  r\n5  0  k  r  k  r  r  r  0\n6  r  r  r  r  r  r  r  r\n7  r  r  r  r  r  r  r  r\n\n\n\n\n   0  1  2  3  4  5  6  7\n0  b  0  q  0  r  q  r  k\n1  0  k  r  q  r  q  r  q\n2  r  r  r  r  q  q  q  r\n3  q  q  q  q  q  q  q  q\n4  r  r  r  r  q  q  q  r\n5  0  k  r  q  r  q  r  q\n6  r  r  q  r  r  q  r  r\n7  r  q  r  r  r  q  r  r\n\n\n\n\n   0  1  2  3  4  5  6  7\n0  q  0  q  0  r  q  q  k\n1  q  k  r  q  r  q  r  q\n2  q  r  r  r  q  q  q  r\n3  q  q  q  q  q  q  q  q\n4  q  r  q  r  q  q  q  r\n5  q  q  r  q  r  q  r  q\n6  q  q  q  q  q  q  q  q\n7  q  q  r  r  r  q  r  r\n\n\n\n\n   0  1  2  3  4  5  6  7\n0  q  0  q  0  r  q  q  k\n1  q  k  r  q  r  q  r  q\n2  q  r  r  r  q  q  q  r\n3  q  q  q  q  q  q  q  q\n4  q  r  q  r  q  q  q  r\n5  q  q  r  q  r  q  r  q\n6  q  q  q  q  q  q  q  q\n7  q  q  r  rr  q  r  r\n\n\n\n\n2\n"
    }
   ],
   "source": [
    "result=solution()\n",
    "print(result)   "
   ]
  },
  {
   "cell_type": "code",
   "execution_count": 201,
   "metadata": {},
   "outputs": [
    {
     "output_type": "error",
     "ename": "NameError",
     "evalue": "name 'board' is not defined",
     "traceback": [
      "\u001b[1;31m---------------------------------------------------------------------------\u001b[0m",
      "\u001b[1;31mNameError\u001b[0m                                 Traceback (most recent call last)",
      "\u001b[1;32m<ipython-input-201-b1d0e63392be>\u001b[0m in \u001b[0;36m<module>\u001b[1;34m\u001b[0m\n\u001b[1;32m----> 1\u001b[1;33m \u001b[0mprint\u001b[0m\u001b[1;33m(\u001b[0m\u001b[0mboard\u001b[0m\u001b[1;33m)\u001b[0m\u001b[1;33m\u001b[0m\u001b[1;33m\u001b[0m\u001b[0m\n\u001b[0m",
      "\u001b[1;31mNameError\u001b[0m: name 'board' is not defined"
     ]
    }
   ],
   "source": []
  },
  {
   "cell_type": "code",
   "execution_count": null,
   "metadata": {},
   "outputs": [],
   "source": []
  },
  {
   "cell_type": "code",
   "execution_count": null,
   "metadata": {},
   "outputs": [],
   "source": []
  },
  {
   "cell_type": "code",
   "execution_count": null,
   "metadata": {},
   "outputs": [],
   "source": []
  },
  {
   "cell_type": "code",
   "execution_count": null,
   "metadata": {},
   "outputs": [],
   "source": []
  },
  {
   "cell_type": "code",
   "execution_count": null,
   "metadata": {},
   "outputs": [],
   "source": []
  },
  {
   "cell_type": "code",
   "execution_count": null,
   "metadata": {},
   "outputs": [],
   "source": []
  },
  {
   "cell_type": "code",
   "execution_count": null,
   "metadata": {},
   "outputs": [],
   "source": []
  },
  {
   "cell_type": "code",
   "execution_count": null,
   "metadata": {},
   "outputs": [],
   "source": []
  },
  {
   "cell_type": "code",
   "execution_count": null,
   "metadata": {},
   "outputs": [],
   "source": [
    "no_bishops=0\n",
    "no_queens=1\n",
    "queens=[[4,2]]\n",
    "queens"
   ]
  }
 ],
 "metadata": {
  "language_info": {
   "codemirror_mode": {
    "name": "ipython",
    "version": 3
   },
   "file_extension": ".py",
   "mimetype": "text/x-python",
   "name": "python",
   "nbconvert_exporter": "python",
   "pygments_lexer": "ipython3",
   "version": "3.8.1-final"
  },
  "orig_nbformat": 2,
  "kernelspec": {
   "name": "python38164bit2eab9235383346769bdd3ab87fd5d2b3",
   "display_name": "Python 3.8.1 64-bit"
  }
 },
 "nbformat": 4,
 "nbformat_minor": 2
}