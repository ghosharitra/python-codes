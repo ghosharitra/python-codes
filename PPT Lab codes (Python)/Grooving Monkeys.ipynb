{
 "cells": [
  {
   "cell_type": "code",
   "execution_count": null,
   "metadata": {},
   "outputs": [],
   "source": [
    "# 1\n",
    "# 6\n",
    "# [3, 6, 5, 4, 1, 2]"
   ]
  },
  {
   "cell_type": "code",
   "execution_count": 1,
   "metadata": {
    "tags": []
   },
   "outputs": [
    {
     "output_type": "stream",
     "name": "stdout",
     "text": "1\n6\n[3, 6, 5, 4, 1, 2]\n"
    }
   ],
   "source": [
    "t=int(input())\n",
    "no_monkeys=int(input())\n",
    "pattern=list(map(int,input().split())) \n",
    "\n",
    "print(t)\n",
    "print(no_monkeys)\n",
    "print(pattern)"
   ]
  },
  {
   "cell_type": "code",
   "execution_count": 2,
   "metadata": {},
   "outputs": [],
   "source": [
    "def solution(p,no_monkeys):\n",
    "\n",
    "    pattern=p.copy()\n",
    "    monkeys=[]\n",
    "    new_monkeys=[]\n",
    "    temp=[]\n",
    "    count=0\n",
    "\n",
    "\n",
    "    for i in range(no_monkeys):\n",
    "        pattern[i]-=1\n",
    "        monkeys.append(i)\n",
    "        new_monkeys.append(i)\n",
    "        temp.append(0)\n",
    "    print(monkeys)\n",
    "    \n",
    "    \n",
    "    \n",
    "    while True:\n",
    "        temp1=temp.copy()\n",
    "        \n",
    "        for i in range(no_monkeys):\n",
    "            temp1[pattern[i]]=new_monkeys[i]\n",
    "        count+=1\n",
    "        new_monkeys=temp1.copy()\n",
    "        print(new_monkeys)\n",
    "        if monkeys==new_monkeys:\n",
    "            return count\n"
   ]
  },
  {
   "cell_type": "code",
   "execution_count": 3,
   "metadata": {
    "tags": []
   },
   "outputs": [
    {
     "output_type": "stream",
     "name": "stdout",
     "text": "[0, 1, 2, 3, 4, 5]\n[4, 5, 0, 3, 2, 1]\n[2, 1, 4, 3, 0, 5]\n[0, 5, 2, 3, 4, 1]\n[4, 1, 0, 3, 2, 5]\n[2, 5, 4, 3, 0, 1]\n[0, 1, 2, 3, 4, 5]\n"
    },
    {
     "output_type": "execute_result",
     "data": {
      "text/plain": "6"
     },
     "metadata": {},
     "execution_count": 3
    }
   ],
   "source": [
    "solution(pattern,no_monkeys)"
   ]
  },
  {
   "cell_type": "code",
   "execution_count": null,
   "metadata": {},
   "outputs": [],
   "source": []
  },
  {
   "cell_type": "code",
   "execution_count": null,
   "metadata": {},
   "outputs": [],
   "source": []
  }
 ],
 "metadata": {
  "language_info": {
   "codemirror_mode": {
    "name": "ipython",
    "version": 3
   },
   "file_extension": ".py",
   "mimetype": "text/x-python",
   "name": "python",
   "nbconvert_exporter": "python",
   "pygments_lexer": "ipython3",
   "version": "3.8.1-final"
  },
  "orig_nbformat": 2,
  "kernelspec": {
   "name": "python38164bit2eab9235383346769bdd3ab87fd5d2b3",
   "display_name": "Python 3.8.1 64-bit"
  }
 },
 "nbformat": 4,
 "nbformat_minor": 2
}