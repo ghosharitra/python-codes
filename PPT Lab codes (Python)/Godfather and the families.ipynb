{
 "cells": [
  {
   "cell_type": "code",
   "execution_count": null,
   "metadata": {},
   "outputs": [],
   "source": [
    "\"\"\"\n",
    "i/p:\n",
    "5 3\n",
    "1 2\n",
    "2 3\n",
    "4 5\n",
    "\n",
    "o/p:\n",
    "2\n",
    "\n",
    "\n",
    "\n",
    "i/p:\n",
    "12 9\n",
    "1 2\n",
    "7 3 \n",
    "6 5\n",
    "4 8\n",
    "7 6\n",
    "2 3\n",
    "8 9 \n",
    "10 11\n",
    "12 11\n",
    "\n",
    "o/p:\n",
    "3\n",
    "\"\"\""
   ]
  },
  {
   "cell_type": "code",
   "execution_count": 17,
   "metadata": {
    "tags": []
   },
   "outputs": [
    {
     "output_type": "stream",
     "name": "stdout",
     "text": "12 9\n[[1, 2], [7, 3], [6, 5], [4, 8], [7, 6], [2, 3], [8, 9], [10, 11], [12, 11]]\n"
    }
   ],
   "source": [
    "no_families,no_pairs=map(int,input().split())\n",
    "pairs=[]\n",
    "for i in range(no_pairs):\n",
    "    pairs.append(list(map(int,input().split())))\n",
    "\n",
    "print(no_families,no_pairs)\n",
    "print(pairs)"
   ]
  },
  {
   "cell_type": "code",
   "execution_count": 11,
   "metadata": {},
   "outputs": [],
   "source": [
    "def solution(l):\n",
    "    pairs=l.copy()\n",
    "    print(pairs)\n",
    "    families=[]\n",
    "    while len(pairs)!=0:\n",
    "        group=pairs[0]\n",
    "        \n",
    "        \n",
    "        while True:\n",
    "            i=1\n",
    "            changed=0\n",
    "            while i<len(pairs):\n",
    "                temp=set(group).union(set(pairs[i]))\n",
    "                if len(group)+2>len(temp):\n",
    "                    group=list(temp)\n",
    "                    changed=1\n",
    "                    pairs.pop(i)\n",
    "                else:\n",
    "                    i=i+1\n",
    "            if changed==0:\n",
    "                families.append(group)\n",
    "                pairs.pop(0)\n",
    "                break\n",
    "    print(families)\n",
    "    min=len(families[0])\n",
    "    for i in families:\n",
    "        if min>len(i):\n",
    "            min=len(i)\n",
    "    return min"
   ]
  },
  {
   "cell_type": "code",
   "execution_count": 16,
   "metadata": {
    "tags": []
   },
   "outputs": [
    {
     "output_type": "stream",
     "name": "stdout",
     "text": "[[1, 2], [7, 3], [6, 5], [4, 8], [7, 6], [2, 3], [8, 9], [10, 11]]\n[[1, 2, 3, 5, 6, 7], [8, 9, 4], [10, 11]]\n2\n"
    }
   ],
   "source": [
    "print(solution(pairs))"
   ]
  },
  {
   "cell_type": "code",
   "execution_count": null,
   "metadata": {},
   "outputs": [],
   "source": []
  }
 ],
 "metadata": {
  "language_info": {
   "codemirror_mode": {
    "name": "ipython",
    "version": 3
   },
   "file_extension": ".py",
   "mimetype": "text/x-python",
   "name": "python",
   "nbconvert_exporter": "python",
   "pygments_lexer": "ipython3",
   "version": "3.8.1-final"
  },
  "orig_nbformat": 2,
  "kernelspec": {
   "name": "python38164bit28a7993308564fccb6201ffd7f561ce4",
   "display_name": "Python 3.8.1 64-bit"
  }
 },
 "nbformat": 4,
 "nbformat_minor": 2
}