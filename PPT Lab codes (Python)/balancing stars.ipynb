{
 "cells": [
  {
   "cell_type": "code",
   "execution_count": null,
   "metadata": {},
   "outputs": [],
   "source": [
    "{**}\n",
    "{**(**{**[**]})}\n",
    "**}xasd[**]sda231\n",
    "{)}\n",
    "{)[}(]\n",
    "{}{{{}}}())(()][][]}}}]]\n",
    "{a*+}\n",
    "{a*+^*}\n",
    "{*(***)[**]*}\n"
   ]
  },
  {
   "cell_type": "code",
   "execution_count": 6,
   "metadata": {
    "tags": []
   },
   "outputs": [
    {
     "output_type": "stream",
     "name": "stdout",
     "text": "{*(***)[**]}\n"
    }
   ],
   "source": [
    "string=input()\n",
    "print(string)"
   ]
  },
  {
   "cell_type": "code",
   "execution_count": 3,
   "metadata": {},
   "outputs": [],
   "source": [
    "def solution(string,l=0,mode=\"b\",bracket=None,result=\"\",pair=0):\n",
    "    \n",
    "    starcount=0\n",
    "\n",
    "    while True:\n",
    "        if l<len(string):\n",
    "            print(\"length=\",len(string),\"l=\",l,\"char=\",string[l], \"bracket=\",bracket,\"mode=\",mode, \"starcount=\",starcount,\"result=\",result,\"pair=\",pair)\n",
    "\n",
    "        if l==len(string):\n",
    "            print(\"length=\",len(string),\"l=\",l,\"char= null\", \"bracket=\",bracket,\"mode=\",mode, \"starcount=\",starcount,\"result=\",result,\"pair=\",pair)\n",
    "            print(\"condition 1\")\n",
    "            if result==\"\":\n",
    "                result=\"Yes\"\n",
    "                return result,pair,l\n",
    "            elif mode==\"u\":\n",
    "                result=\"No\"\n",
    "                return result,pair,l\n",
    "            else:\n",
    "                return result,pair,l\n",
    "\n",
    "        if mode==\"b\" and (string[l]==\")\" or string[l]==\"]\" or string[l]==\"}\"):\n",
    "            print(\"condition 2\")\n",
    "            result=\"No\"\n",
    "            l=l+1\n",
    "        \n",
    "    \n",
    "        elif string[l]==\"(\" or string[l]==\"[\" or string[l]==\"{\" :    \n",
    "            print(\"condition 3\")\n",
    "            \n",
    "            if string[l]==\"(\":\n",
    "                l=l+1\n",
    "                result,pair,l=solution(string,l,\"u\",\"(\",result,pair)\n",
    "            elif string[l]==\"[\":\n",
    "                l=l+1\n",
    "                result,pair,l=solution(string,l,\"u\",\"[\",result,pair)\n",
    "            elif string[l]==\"{\":\n",
    "                l=l+1\n",
    "                result,pair,l=solution(string,l,\"u\",\"{\",result,pair)\n",
    "\n",
    "        elif mode==\"u\":\n",
    "            print(\"condition 4\")\n",
    "            if bracket==\"(\" and string[l]==\")\":\n",
    "                l=l+1\n",
    "                pair=pair+1\n",
    "                if starcount<2:\n",
    "                    result=\"No\"\n",
    "                return result,pair,l\n",
    "\n",
    "            elif bracket==\"[\" and string[l]==\"]\":\n",
    "                l=l+1\n",
    "                pair=pair+1\n",
    "                if starcount<2:\n",
    "                    result=\"No\"\n",
    "                return result,pair,l\n",
    "            elif bracket==\"{\" and string[l]==\"}\":\n",
    "                l=l+1\n",
    "                pair=pair+1\n",
    "                if starcount<2:\n",
    "                    result=\"No\"\n",
    "                return result,pair,l\n",
    "            else:\n",
    "                if bracket==\"(\" and (string[l]==\"]\" or string[l]==\"}\"):\n",
    "                    result=\"No\"\n",
    "                elif bracket==\"[\" and (string[l]==\")\" or string[l]==\"}\"):\n",
    "                    result=\"No\"\n",
    "                elif bracket==\"{\" and (string[l]==\")\" or string[l]==\"]\"):\n",
    "                    result=\"No\"\n",
    "                elif string[l]==\"*\":\n",
    "                   starcount=starcount+1\n",
    "\n",
    "                l=l+1\n",
    "        else:\n",
    "            print(\"condition 5\")\n",
    "            l=l+1\n",
    "\n",
    "        \n",
    "\n"
   ]
  },
  {
   "cell_type": "code",
   "execution_count": 7,
   "metadata": {
    "tags": []
   },
   "outputs": [
    {
     "output_type": "stream",
     "name": "stdout",
     "text": "length= 12 l= 0 char= { bracket= None mode= b starcount= 0 result=  pair= 0\ncondition 3\nlength= 12 l= 1 char= * bracket= { mode= u starcount= 0 result=  pair= 0\ncondition 4\nlength= 12 l= 2 char= ( bracket= { mode= u starcount= 1 result=  pair= 0\ncondition 3\nlength= 12 l= 3 char= * bracket= ( mode= u starcount= 0 result=  pair= 0\ncondition 4\nlength= 12 l= 4 char= * bracket= ( mode= u starcount= 1 result=  pair= 0\ncondition 4\nlength= 12 l= 5 char= * bracket= ( mode= u starcount= 2 result=  pair= 0\ncondition 4\nlength= 12 l= 6 char= ) bracket= ( mode= u starcount= 3 result=  pair= 0\ncondition 4\nlength= 12 l= 7 char= [ bracket= { mode= u starcount= 1 result=  pair= 1\ncondition 3\nlength= 12 l= 8 char= * bracket= [ mode= u starcount= 0 result=  pair= 1\ncondition 4\nlength= 12 l= 9 char= * bracket= [ mode= u starcount= 1 result=  pair= 1\ncondition 4\nlength= 12 l= 10 char= ] bracket= [ mode= u starcount= 2 result=  pair= 1\ncondition 4\nlength= 12 l= 11 char= } bracket= { mode= u starcount= 1 result=  pair= 2\ncondition 4\nlength= 12 l= 12 char= null bracket= None mode= b starcount= 0 result= No pair= 3\ncondition 1\nNo 3\n"
    }
   ],
   "source": [
    "result,pair,l=solution(string)\n",
    "\n",
    "print(result,pair)"
   ]
  },
  {
   "cell_type": "code",
   "execution_count": null,
   "metadata": {},
   "outputs": [],
   "source": []
  }
 ],
 "metadata": {
  "language_info": {
   "codemirror_mode": {
    "name": "ipython",
    "version": 3
   },
   "file_extension": ".py",
   "mimetype": "text/x-python",
   "name": "python",
   "nbconvert_exporter": "python",
   "pygments_lexer": "ipython3",
   "version": "3.8.1-final"
  },
  "orig_nbformat": 2,
  "kernelspec": {
   "name": "python38164bit28a7993308564fccb6201ffd7f561ce4",
   "display_name": "Python 3.8.1 64-bit"
  }
 },
 "nbformat": 4,
 "nbformat_minor": 2
}