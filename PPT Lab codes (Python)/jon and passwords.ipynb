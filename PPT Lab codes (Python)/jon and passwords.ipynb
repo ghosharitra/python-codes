{
 "cells": [
  {
   "cell_type": "code",
   "execution_count": 20,
   "metadata": {
    "tags": []
   },
   "outputs": [
    {
     "output_type": "stream",
     "name": "stdout",
     "text": "['AeIouAEiOuaEioU']\n"
    }
   ],
   "source": [
    "testcase=int(input())\n",
    "enc_pass=[]\n",
    "for i in range(testcase):\n",
    "    enc_pass.append(input())\n",
    "\n",
    "print(enc_pass) "
   ]
  },
  {
   "cell_type": "code",
   "execution_count": 21,
   "metadata": {},
   "outputs": [],
   "source": [
    "def lower(string):\n",
    "    string1=\"\"\n",
    "    for i in string:\n",
    "        if 65<=ord(i) and ord(i)<=90:\n",
    "            string1=string1+chr(ord(i)+32)\n",
    "        else:\n",
    "            string1=string+i\n",
    "    return string1"
   ]
  },
  {
   "cell_type": "code",
   "execution_count": 22,
   "metadata": {
    "tags": []
   },
   "outputs": [
    {
     "output_type": "stream",
     "name": "stdout",
     "text": "\n\n"
    }
   ],
   "source": [
    "for i in range(testcase):\n",
    "    pan=enc_pass[i]\n",
    "    pan=pan.lower()\n",
    "    j=0\n",
    "    while j < len(pan):\n",
    "        if pan[j]==\"a\" or pan[j]==\"e\" or pan[j]==\"i\" or pan[j]==\"o\" or pan[j]==\"u\":\n",
    "            pan=pan[:j]+pan[j+1:]\n",
    "        else:\n",
    "            j=j+1\n",
    "    print(pan)\n",
    "    string=\"\"\n",
    "    for j in range(len(pan)):\n",
    "        string=string+\"*\"+pan[j]\n",
    "    print(string)\n",
    "\n",
    "    \n",
    "\n",
    "\n"
   ]
  },
  {
   "cell_type": "code",
   "execution_count": 6,
   "metadata": {},
   "outputs": [
    {
     "output_type": "error",
     "ename": "NameError",
     "evalue": "name 'false' is not defined",
     "traceback": [
      "\u001b[1;31m---------------------------------------------------------------------------\u001b[0m",
      "\u001b[1;31mNameError\u001b[0m                                 Traceback (most recent call last)",
      "\u001b[1;32m<ipython-input-6-8c76ea5c9bf0>\u001b[0m in \u001b[0;36m<module>\u001b[1;34m\u001b[0m\n\u001b[0;32m      4\u001b[0m     \u001b[0mprint\u001b[0m\u001b[1;33m(\u001b[0m\u001b[0mtrue\u001b[0m\u001b[1;33m)\u001b[0m\u001b[1;33m\u001b[0m\u001b[1;33m\u001b[0m\u001b[0m\n\u001b[0;32m      5\u001b[0m \u001b[1;32melse\u001b[0m\u001b[1;33m:\u001b[0m\u001b[1;33m\u001b[0m\u001b[1;33m\u001b[0m\u001b[0m\n\u001b[1;32m----> 6\u001b[1;33m     \u001b[0mprint\u001b[0m\u001b[1;33m(\u001b[0m\u001b[0mfalse\u001b[0m\u001b[1;33m)\u001b[0m\u001b[1;33m\u001b[0m\u001b[1;33m\u001b[0m\u001b[0m\n\u001b[0m",
      "\u001b[1;31mNameError\u001b[0m: name 'false' is not defined"
     ]
    }
   ],
   "source": [
    "a='a'\n",
    "\n",
    "if 5> ord(a):\n",
    "    print(true)\n",
    "else:\n",
    "    print(false)"
   ]
  },
  {
   "cell_type": "code",
   "execution_count": null,
   "metadata": {},
   "outputs": [],
   "source": []
  }
 ],
 "metadata": {
  "language_info": {
   "codemirror_mode": {
    "name": "ipython",
    "version": 3
   },
   "file_extension": ".py",
   "mimetype": "text/x-python",
   "name": "python",
   "nbconvert_exporter": "python",
   "pygments_lexer": "ipython3",
   "version": "3.8.1-final"
  },
  "orig_nbformat": 2,
  "kernelspec": {
   "name": "python38164bit2eab9235383346769bdd3ab87fd5d2b3",
   "display_name": "Python 3.8.1 64-bit"
  }
 },
 "nbformat": 4,
 "nbformat_minor": 2
}