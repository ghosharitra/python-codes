{
 "cells": [
  {
   "cell_type": "code",
   "execution_count": 7,
   "metadata": {
    "tags": []
   },
   "outputs": [
    {
     "output_type": "stream",
     "name": "stdout",
     "text": "4\n"
    }
   ],
   "source": [
    "no_books=int(input())\n",
    "\n",
    "print(no_books)"
   ]
  },
  {
   "cell_type": "code",
   "execution_count": 71,
   "metadata": {},
   "outputs": [],
   "source": [
    "def ways(no_books,books,select_books,order,n=0,):\n",
    "    print(\"no_books=\",no_books,\"books=\",books,\"select_books=\",select_books,\"order=\",order,\"n=\",n)\n",
    "    if no_books==n:\n",
    "        print(select_books)\n",
    "        order.append(select_books.copy())\n",
    "        return order\n",
    "    \n",
    "    for i in range(len(books)):\n",
    "        if books[i]!=n:\n",
    "            rem_books=books.copy()\n",
    "            select_books.append(rem_books.pop(i))\n",
    "            order=ways(no_books,rem_books,select_books,order,n+1)\n",
    "            select_books.pop()\n",
    "    return order\n",
    "\n",
    "\n",
    "\n"
   ]
  },
  {
   "cell_type": "code",
   "execution_count": 72,
   "metadata": {},
   "outputs": [],
   "source": [
    "def solution(no_books):\n",
    "    \n",
    "    order=[]\n",
    "    #print(order)\n",
    "    books=[]\n",
    "    select_books=[]\n",
    "    for i in range(no_books):\n",
    "        books.append(i)\n",
    "    print(no_books)\n",
    "    order=ways(no_books,books,select_books,order)  \n",
    "    print(\"order: \",order)\n",
    "    res=len(order)\n",
    "    order=[]\n",
    "    print(order)\n",
    "    return res  \n",
    "\n",
    "\n",
    "\n",
    "\n",
    "\n",
    "\n",
    "\n",
    "\n"
   ]
  },
  {
   "cell_type": "code",
   "execution_count": 74,
   "metadata": {
    "tags": []
   },
   "outputs": [
    {
     "output_type": "stream",
     "name": "stdout",
     "text": "4\nno_books= 4 books= [0, 1, 2, 3] select_books= [] order= [] n= 0\nno_books= 4 books= [0, 2, 3] select_books= [1] order= [] n= 1\nno_books= 4 books= [2, 3] select_books= [1, 0] order= [] n= 2\nno_books= 4 books= [2] select_books= [1, 0, 3] order= [] n= 3\nno_books= 4 books= [] select_books= [1, 0, 3, 2] order= [] n= 4\n[1, 0, 3, 2]\nno_books= 4 books= [0, 3] select_books= [1, 2] order= [[1, 0, 3, 2]] n= 2\nno_books= 4 books= [3] select_books= [1, 2, 0] order= [[1, 0, 3, 2]] n= 3\nno_books= 4 books= [0] select_books= [1, 2, 3] order= [[1, 0, 3, 2]] n= 3\nno_books= 4 books= [] select_books= [1, 2, 3, 0] order= [[1, 0, 3, 2]] n= 4\n[1, 2, 3, 0]\nno_books= 4 books= [0, 2] select_books= [1, 3] order= [[1, 0, 3, 2], [1, 2, 3, 0]] n= 2\nno_books= 4 books= [2] select_books= [1, 3, 0] order= [[1, 0, 3, 2], [1, 2, 3, 0]] n= 3\nno_books= 4 books= [] select_books= [1, 3, 0, 2] order= [[1, 0, 3, 2], [1, 2, 3, 0]] n= 4\n[1, 3, 0, 2]\nno_books= 4 books= [0, 1, 3] select_books= [2] order= [[1, 0, 3, 2], [1, 2, 3, 0], [1, 3, 0, 2]] n= 1\nno_books= 4 books= [1, 3] select_books= [2, 0] order= [[1, 0, 3, 2], [1, 2, 3, 0], [1, 3, 0, 2]] n= 2\nno_books= 4 books= [3] select_books= [2, 0, 1] order= [[1, 0, 3, 2], [1, 2, 3, 0], [1, 3, 0, 2]] n= 3\nno_books= 4 books= [1] select_books= [2, 0, 3] order= [[1, 0, 3, 2], [1, 2, 3, 0], [1, 3, 0, 2]] n= 3\nno_books= 4 books= [] select_books= [2, 0, 3, 1] order= [[1, 0, 3, 2], [1, 2, 3, 0], [1, 3, 0, 2]] n= 4\n[2, 0, 3, 1]\nno_books= 4 books= [0, 1] select_books= [2, 3] order= [[1, 0, 3, 2], [1, 2, 3, 0], [1, 3, 0, 2], [2, 0, 3, 1]] n= 2\nno_books= 4 books= [1] select_books= [2, 3, 0] order= [[1, 0, 3, 2], [1, 2, 3, 0], [1, 3, 0, 2], [2, 0, 3, 1]] n= 3\nno_books= 4 books= [] select_books= [2, 3, 0, 1] order= [[1, 0, 3, 2], [1, 2, 3, 0], [1, 3, 0, 2], [2, 0, 3, 1]] n= 4\n[2, 3, 0, 1]\nno_books= 4 books= [0] select_books= [2, 3, 1] order= [[1, 0, 3, 2], [1, 2, 3, 0], [1, 3, 0, 2], [2, 0, 3, 1], [2, 3, 0, 1]] n= 3\nno_books= 4 books= [] select_books= [2, 3, 1, 0] order= [[1, 0, 3, 2], [1, 2, 3, 0], [1, 3, 0, 2], [2, 0, 3, 1], [2, 3, 0, 1]] n= 4\n[2, 3, 1, 0]\nno_books= 4 books= [0, 1, 2] select_books= [3] order= [[1, 0, 3, 2], [1, 2, 3, 0], [1, 3, 0, 2], [2, 0, 3, 1], [2, 3, 0, 1], [2, 3, 1, 0]] n= 1\nno_books= 4 books= [1, 2] select_books= [3, 0] order= [[1, 0, 3, 2], [1, 2, 3, 0], [1, 3, 0, 2], [2, 0, 3, 1], [2, 3, 0, 1], [2, 3, 1, 0]] n= 2\nno_books= 4 books= [2] select_books= [3, 0, 1] order= [[1, 0, 3, 2], [1, 2, 3, 0], [1, 3, 0, 2], [2, 0, 3, 1], [2, 3, 0, 1], [2, 3, 1, 0]] n= 3\nno_books= 4 books= [] select_books= [3, 0, 1, 2] order= [[1, 0, 3, 2], [1, 2, 3, 0], [1, 3, 0, 2], [2, 0, 3, 1], [2, 3, 0, 1], [2, 3, 1, 0]] n= 4\n[3, 0, 1, 2]\nno_books= 4 books= [0, 1] select_books= [3, 2] order= [[1, 0, 3, 2], [1, 2, 3, 0], [1, 3, 0, 2], [2, 0, 3, 1], [2, 3, 0, 1], [2, 3, 1, 0], [3, 0, 1, 2]] n= 2\nno_books= 4 books= [1] select_books= [3, 2, 0] order= [[1, 0, 3, 2], [1, 2, 3, 0], [1, 3, 0, 2], [2, 0, 3, 1], [2, 3, 0, 1], [2, 3, 1, 0], [3, 0, 1, 2]] n= 3\nno_books= 4 books= [] select_books= [3, 2, 0, 1] order= [[1, 0, 3, 2], [1, 2, 3, 0], [1, 3, 0, 2], [2, 0, 3, 1], [2, 3, 0, 1], [2, 3, 1, 0], [3, 0, 1, 2]] n= 4\n[3, 2, 0, 1]\nno_books= 4 books= [0] select_books= [3, 2, 1] order= [[1, 0, 3, 2], [1, 2, 3, 0], [1, 3, 0, 2], [2, 0, 3, 1], [2, 3, 0, 1], [2, 3, 1, 0], [3, 0, 1, 2], [3, 2, 0, 1]] n= 3\nno_books= 4 books= [] select_books= [3, 2, 1, 0] order= [[1, 0, 3, 2], [1, 2, 3, 0], [1, 3, 0, 2], [2, 0, 3, 1], [2, 3, 0, 1], [2, 3, 1, 0], [3, 0, 1, 2], [3, 2, 0, 1]] n= 4\n[3, 2, 1, 0]\norder:  [[1, 0, 3, 2], [1, 2, 3, 0], [1, 3, 0, 2], [2, 0, 3, 1], [2, 3, 0, 1], [2, 3, 1, 0], [3, 0, 1, 2], [3, 2, 0, 1], [3, 2, 1, 0]]\n[]\n9\n"
    }
   ],
   "source": [
    "result=solution(no_books)\n",
    "print(result)"
   ]
  },
  {
   "cell_type": "code",
   "execution_count": null,
   "metadata": {},
   "outputs": [],
   "source": []
  },
  {
   "cell_type": "code",
   "execution_count": null,
   "metadata": {},
   "outputs": [],
   "source": []
  }
 ],
 "metadata": {
  "language_info": {
   "codemirror_mode": {
    "name": "ipython",
    "version": 3
   },
   "file_extension": ".py",
   "mimetype": "text/x-python",
   "name": "python",
   "nbconvert_exporter": "python",
   "pygments_lexer": "ipython3",
   "version": "3.8.1-final"
  },
  "orig_nbformat": 2,
  "kernelspec": {
   "name": "python38164bit28a7993308564fccb6201ffd7f561ce4",
   "display_name": "Python 3.8.1 64-bit"
  }
 },
 "nbformat": 4,
 "nbformat_minor": 2
}