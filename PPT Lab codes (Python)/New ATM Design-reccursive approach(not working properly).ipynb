{
 "cells": [
  {
   "cell_type": "code",
   "execution_count": 35,
   "metadata": {
    "tags": []
   },
   "outputs": [
    {
     "output_type": "stream",
     "name": "stdout",
     "text": "currencyLimit= 10\namount= 1300\nno_100= 10\nno_200= 10\nno_500= 10\nno_1000= 10\n"
    }
   ],
   "source": [
    "currencyLimit=N=int(input())\n",
    "amount=int(input())\n",
    "no_100=int(input())\n",
    "no_200=int(input())\n",
    "no_500=int(input())\n",
    "no_1000=int(input())\n",
    "\n",
    "print(\"currencyLimit=\",currencyLimit)\n",
    "print(\"amount=\",amount)\n",
    "print(\"no_100=\",no_100)\n",
    "print(\"no_200=\",no_200)\n",
    "print(\"no_500=\",no_500)\n",
    "print(\"no_1000=\",no_1000)"
   ]
  },
  {
   "cell_type": "code",
   "execution_count": 45,
   "metadata": {},
   "outputs": [],
   "source": [
    "def atm(currencyLimit,amount,c_100=0,c_200=0,c_500=0,c_1000=0):\n",
    "    \n",
    "    print(\"IN FUN:\",\"currencyLimit=\",currencyLimit,\"amount=\",amount,\"c_100=\",c_100,\"c_200=\",c_200,\"c_500=\",c_500,\"c_1000=\",c_1000)\n",
    "    \n",
    "    if amount<0:\n",
    "        return -1\n",
    "    if currencyLimit==0 and amount>0:\n",
    "        return -1\n",
    "    if amount==0:\n",
    "        return c_100,c_200,c_500,c_1000\n",
    "    \n",
    "    \n",
    "    \n",
    "    \n",
    "    \n",
    "    notes=[100,200,500,1000]\n",
    "    for i in notes:\n",
    "        print(\"IN FOR:\",\"currencyLimit=\",currencyLimit,\"amount=\",amount,\"c_100=\",c_100,\"c_200=\",c_200,\"c_500=\",c_500,\"c_1000=\",c_1000)\n",
    "        if i==100:\n",
    "            if no_100-c_100>0:\n",
    "                res=atm(currencyLimit-1,amount-i,c_100+1,c_200,c_500,c_1000)\n",
    "                if res!=-1:\n",
    "                    c_100=res[0]\n",
    "                    c_200=res[1]\n",
    "                    c_500=res[2]\n",
    "                    c_1000=res[3]\n",
    "                    return c_100,c_200,c_500,c_1000\n",
    "        elif i==200:\n",
    "            if no_200-c_200>0:\n",
    "                res=atm(currencyLimit-1,amount-i,c_100,c_200+1,c_500,c_1000)\n",
    "                if res!=-1:\n",
    "                    c_100=res[0]\n",
    "                    c_200=res[1]\n",
    "                    c_500=res[2]\n",
    "                    c_1000=res[3]\n",
    "                    return c_100,c_200,c_500,c_1000\n",
    "\n",
    "        elif i==500:\n",
    "            if no_500-c_500>0:\n",
    "                res=atm(currencyLimit-1,amount-i,c_100,c_200,c_500+1,c_1000)\n",
    "                if res!=-1:\n",
    "                    c_100=res[0]\n",
    "                    c_200=res[1]\n",
    "                    c_500=res[2]\n",
    "                    c_1000=res[3]\n",
    "                    return c_100,c_200,c_500,c_1000\n",
    "\n",
    "        elif i==1000:\n",
    "            if no_1000-c_1000>0:\n",
    "                res=atm(currencyLimit-1,amount-i,c_100,c_200,c_500,c_1000+1)\n",
    "                if res!=-1:\n",
    "                    c_100=res[0]\n",
    "                    c_200=res[1]\n",
    "                    c_500=res[2]\n",
    "                    c_1000=res[3]\n",
    "                    return c_100,c_200,c_500,c_1000\n",
    "        \n",
    "    return -1\n",
    "\n",
    "\n",
    "\n"
   ]
  },
  {
   "cell_type": "code",
   "execution_count": 46,
   "metadata": {
    "tags": []
   },
   "outputs": [
    {
     "output_type": "stream",
     "name": "stdout",
     "text": "IN FUN: currencyLimit= 10 amount= 1300 c_100= 0 c_200= 0 c_500= 0 c_1000= 0\nIN FOR: currencyLimit= 10 amount= 1300 c_100= 0 c_200= 0 c_500= 0 c_1000= 0\nIN FUN: currencyLimit= 9 amount= 1200 c_100= 1 c_200= 0 c_500= 0 c_1000= 0\nIN FOR: currencyLimit= 9 amount= 1200 c_100= 1 c_200= 0 c_500= 0 c_1000= 0\nIN FUN: currencyLimit= 8 amount= 1100 c_100= 2 c_200= 0 c_500= 0 c_1000= 0\nIN FOR: currencyLimit= 8 amount= 1100 c_100= 2 c_200= 0 c_500= 0 c_1000= 0\nIN FUN: currencyLimit= 7 amount= 1000 c_100= 3 c_200= 0 c_500= 0 c_1000= 0\nIN FOR: currencyLimit= 7 amount= 1000 c_100= 3 c_200= 0 c_500= 0 c_1000= 0\nIN FUN: currencyLimit= 6 amount= 900 c_100= 4 c_200= 0 c_500= 0 c_1000= 0\nIN FOR: currencyLimit= 6 amount= 900 c_100= 4 c_200= 0 c_500= 0 c_1000= 0\nIN FUN: currencyLimit= 5 amount= 800 c_100= 5 c_200= 0 c_500= 0 c_1000= 0\nIN FOR: currencyLimit= 5 amount= 800 c_100= 5 c_200= 0 c_500= 0 c_1000= 0\nIN FUN: currencyLimit= 4 amount= 700 c_100= 6 c_200= 0 c_500= 0 c_1000= 0\nIN FOR: currencyLimit= 4 amount= 700 c_100= 6 c_200= 0 c_500= 0 c_1000= 0\nIN FUN: currencyLimit= 3 amount= 600 c_100= 7 c_200= 0 c_500= 0 c_1000= 0\nIN FOR: currencyLimit= 3 amount= 600 c_100= 7 c_200= 0 c_500= 0 c_1000= 0\nIN FUN: currencyLimit= 2 amount= 500 c_100= 8 c_200= 0 c_500= 0 c_1000= 0\nIN FOR: currencyLimit= 2 amount= 500 c_100= 8 c_200= 0 c_500= 0 c_1000= 0\nIN FUN: currencyLimit= 1 amount= 400 c_100= 9 c_200= 0 c_500= 0 c_1000= 0\nIN FOR: currencyLimit= 1 amount= 400 c_100= 9 c_200= 0 c_500= 0 c_1000= 0\nIN FUN: currencyLimit= 0 amount= 300 c_100= 10 c_200= 0 c_500= 0 c_1000= 0\nIN FOR: currencyLimit= 1 amount= 400 c_100= 9 c_200= 0 c_500= 0 c_1000= 0\nIN FUN: currencyLimit= 0 amount= 200 c_100= 9 c_200= 1 c_500= 0 c_1000= 0\nIN FOR: currencyLimit= 1 amount= 400 c_100= 9 c_200= 0 c_500= 0 c_1000= 0\nIN FUN: currencyLimit= 0 amount= -100 c_100= 9 c_200= 0 c_500= 1 c_1000= 0\nIN FOR: currencyLimit= 1 amount= 400 c_100= 9 c_200= 0 c_500= 0 c_1000= 0\nIN FUN: currencyLimit= 0 amount= -600 c_100= 9 c_200= 0 c_500= 0 c_1000= 1\nIN FOR: currencyLimit= 2 amount= 500 c_100= 8 c_200= 0 c_500= 0 c_1000= 0\nIN FUN: currencyLimit= 1 amount= 300 c_100= 8 c_200= 1 c_500= 0 c_1000= 0\nIN FOR: currencyLimit= 1 amount= 300 c_100= 8 c_200= 1 c_500= 0 c_1000= 0\nIN FUN: currencyLimit= 0 amount= 200 c_100= 9 c_200= 1 c_500= 0 c_1000= 0\nIN FOR: currencyLimit= 1 amount= 300 c_100= 8 c_200= 1 c_500= 0 c_1000= 0\nIN FUN: currencyLimit= 0 amount= 100 c_100= 8 c_200= 2 c_500= 0 c_1000= 0\nIN FOR: currencyLimit= 1 amount= 300 c_100= 8 c_200= 1 c_500= 0 c_1000= 0\nIN FUN: currencyLimit= 0 amount= -200 c_100= 8 c_200= 1 c_500= 1 c_1000= 0\nIN FOR: currencyLimit= 1 amount= 300 c_100= 8 c_200= 1 c_500= 0 c_1000= 0\nIN FUN: currencyLimit= 0 amount= -700 c_100= 8 c_200= 1 c_500= 0 c_1000= 1\nIN FOR: currencyLimit= 2 amount= 500 c_100= 8 c_200= 0 c_500= 0 c_1000= 0\nIN FUN: currencyLimit= 1 amount= 0 c_100= 8 c_200= 0 c_500= 1 c_1000= 0\n(8, 0, 1, 0)\n"
    }
   ],
   "source": [
    "result=atm(currencyLimit,amount)\n",
    "print(result)\n"
   ]
  },
  {
   "cell_type": "code",
   "execution_count": 20,
   "metadata": {},
   "outputs": [],
   "source": [
    "def a():\n",
    "    return 1"
   ]
  },
  {
   "cell_type": "code",
   "execution_count": 21,
   "metadata": {
    "tags": []
   },
   "outputs": [
    {
     "output_type": "stream",
     "name": "stdout",
     "text": "(8, 5, 6, 3)\n"
    }
   ],
   "source": [
    "\n",
    "re=(8,5,6,3)\n",
    "print(re)"
   ]
  },
  {
   "cell_type": "code",
   "execution_count": 23,
   "metadata": {},
   "outputs": [
    {
     "output_type": "execute_result",
     "data": {
      "text/plain": "6"
     },
     "metadata": {},
     "execution_count": 23
    }
   ],
   "source": [
    "re[2]"
   ]
  },
  {
   "cell_type": "code",
   "execution_count": 25,
   "metadata": {
    "tags": []
   },
   "outputs": [
    {
     "output_type": "stream",
     "name": "stdout",
     "text": "Hi\n"
    }
   ],
   "source": [
    "if re!=-1:\n",
    "    print(\"Hi\")"
   ]
  },
  {
   "cell_type": "code",
   "execution_count": null,
   "metadata": {},
   "outputs": [],
   "source": []
  }
 ],
 "metadata": {
  "language_info": {
   "codemirror_mode": {
    "name": "ipython",
    "version": 3
   },
   "file_extension": ".py",
   "mimetype": "text/x-python",
   "name": "python",
   "nbconvert_exporter": "python",
   "pygments_lexer": "ipython3",
   "version": "3.8.1-final"
  },
  "orig_nbformat": 2,
  "kernelspec": {
   "name": "python38164bit28a7993308564fccb6201ffd7f561ce4",
   "display_name": "Python 3.8.1 64-bit"
  }
 },
 "nbformat": 4,
 "nbformat_minor": 2
}