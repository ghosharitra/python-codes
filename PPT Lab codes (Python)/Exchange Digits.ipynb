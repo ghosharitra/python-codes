{
 "cells": [
  {
   "cell_type": "code",
   "execution_count": 111,
   "metadata": {
    "tags": []
   },
   "outputs": [
    {
     "output_type": "stream",
     "name": "stdout",
     "text": "459 500\n[4, 5, 9] [5, 0, 0]\n"
    }
   ],
   "source": [
    "a,b=input().split()\n",
    "print(a,b)\n",
    "a=list(map(int,list(a)))\n",
    "b=list(map(int,list(b)))\n",
    "print(a,b)"
   ]
  },
  {
   "cell_type": "code",
   "execution_count": 99,
   "metadata": {},
   "outputs": [],
   "source": [
    "def copy(a):\n",
    "    b=[]\n",
    "    for i in a:\n",
    "        b.append(i)\n",
    "    return b"
   ]
  },
  {
   "cell_type": "code",
   "execution_count": 100,
   "metadata": {},
   "outputs": [],
   "source": [
    "def asc(a):\n",
    "    b=copy(a)\n",
    "    b.sort()\n",
    "    return b"
   ]
  },
  {
   "cell_type": "code",
   "execution_count": 101,
   "metadata": {},
   "outputs": [],
   "source": [
    "def desc(a):\n",
    "    x=copy(a)\n",
    "    x.sort()\n",
    "    b=x[-1: :-1]\n",
    "    # for i in range(len(x)-1,-1,-1):\n",
    "    #     b.append(a[i])\n",
    "    return b"
   ]
  },
  {
   "cell_type": "code",
   "execution_count": 102,
   "metadata": {},
   "outputs": [],
   "source": [
    "def conInt(a,r=[]):\n",
    "    s=\"\"\n",
    "    for i in r:\n",
    "        s=s+str(i)\n",
    "    for i in a:\n",
    "        s=s+str(i)\n",
    "    b=int(s)\n",
    "    return b"
   ]
  },
  {
   "cell_type": "code",
   "execution_count": 89,
   "metadata": {},
   "outputs": [],
   "source": [
    "# x=copy(a)\n",
    "# x=x.sort()\n",
    "# y=copy(b)\n",
    "# y=y.sort()\n",
    "\n",
    "\n",
    "# if conInt(desc(a))<conInt(b):\n",
    "#     return false\n",
    "# else:\n",
    "#     for i in range(len(a)):\n",
    "#         for j in range(len(x)):\n",
    "#             if x[j]>=b[i]:\n",
    "#                 r.append(x.pop(i))\n",
    "#                 break\n",
    "        \n",
    "\n",
    "\n",
    "\n"
   ]
  },
  {
   "cell_type": "code",
   "execution_count": 107,
   "metadata": {},
   "outputs": [],
   "source": [
    "def solution(a,b,r,l):\n",
    "    print(\"*************** level =\",l,\" ***************\")\n",
    "    x=asc(a)\n",
    "\n",
    "    if conInt(desc(a),r)<=conInt(b):\n",
    "        print(\"---fail---\")\n",
    "        print(\"level =\",l)\n",
    "        print(\"conInt(desc(a),r) =\",conInt(desc(a),r))\n",
    "        print(\"conInt(b) =\",conInt(b))\n",
    "        return -1\n",
    "    elif conInt(asc(a),r)>conInt(b):\n",
    "        \n",
    "        print(\"level =\",l)\n",
    "        print(\"conInt(asc(a),r) =\",conInt(asc(a),r))\n",
    "        print(\"conInt(b) =\",conInt(b))\n",
    "        return conInt(asc(a),r)\n",
    "        \n",
    "    else:\n",
    "        for i in range(len(x)):\n",
    "            if x[i]>=b[l]:\n",
    "                r.append(x.pop(i))\n",
    "                res=solution(x,b,r,l+1)\n",
    "                if res==-1:\n",
    "                    x.append(r.pop())\n",
    "                    x.sort()\n",
    "                else:\n",
    "                    return res\n",
    "                \n",
    "            \n",
    "\n"
   ]
  },
  {
   "cell_type": "code",
   "execution_count": 112,
   "metadata": {
    "tags": []
   },
   "outputs": [
    {
     "output_type": "stream",
     "name": "stdout",
     "text": "*************** level = 0  ***************\n*************** level = 1  ***************\nlevel = 1\nconInt(asc(a),r) = 549\nconInt(b) = 500\n549\n"
    }
   ],
   "source": [
    "r=[]\n",
    "res=solution(a,b,r,0)\n",
    "print(res)"
   ]
  },
  {
   "cell_type": "code",
   "execution_count": null,
   "metadata": {},
   "outputs": [],
   "source": []
  }
 ],
 "metadata": {
  "language_info": {
   "codemirror_mode": {
    "name": "ipython",
    "version": 3
   },
   "file_extension": ".py",
   "mimetype": "text/x-python",
   "name": "python",
   "nbconvert_exporter": "python",
   "pygments_lexer": "ipython3",
   "version": "3.8.1-final"
  },
  "orig_nbformat": 2,
  "kernelspec": {
   "name": "python38164bit28a7993308564fccb6201ffd7f561ce4",
   "display_name": "Python 3.8.1 64-bit"
  }
 },
 "nbformat": 4,
 "nbformat_minor": 2
}