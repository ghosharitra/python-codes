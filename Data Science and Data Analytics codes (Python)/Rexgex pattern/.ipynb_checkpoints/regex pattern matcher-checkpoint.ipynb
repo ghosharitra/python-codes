{
 "cells": [
  {
   "cell_type": "code",
   "execution_count": 1,
   "metadata": {},
   "outputs": [],
   "source": [
    "import sys\n",
    "import re"
   ]
  },
  {
   "cell_type": "code",
   "execution_count": 2,
   "metadata": {},
   "outputs": [],
   "source": [
    "infile = \"simple.txt\"\n",
    "#filename=input(\"Enter file to store output of the Regular Expression: \")\n",
    "fileptr = open(\"output.txt\",'w')"
   ]
  },
  {
   "cell_type": "code",
   "execution_count": 3,
   "metadata": {},
   "outputs": [],
   "source": [
    "def match(text):\n",
    "    if re.search(r'\\b[Tt]he\\b',text): #1\n",
    "        return True\n",
    "    else:\n",
    "        return False"
   ]
  },
  {
   "cell_type": "code",
   "execution_count": 4,
   "metadata": {},
   "outputs": [],
   "source": [
    "def process_file(infile):\n",
    "    fin = open(infile, \"r\")\n",
    "    for line in fin:\n",
    "        print(line)\n",
    "        temp = match(line)\n",
    "        print(temp)\n",
    "        if temp == True :\n",
    "            print(\"true:\", line)\n",
    "            fileptr.write(line)\n",
    "        #end for\n",
    "# end function"
   ]
  },
  {
   "cell_type": "code",
   "execution_count": 5,
   "metadata": {},
   "outputs": [],
   "source": [
    "def main():\n",
    "    process_file(infile)\n",
    "# end main()"
   ]
  },
  {
   "cell_type": "code",
   "execution_count": 6,
   "metadata": {},
   "outputs": [
    {
     "name": "stdout",
     "output_type": "stream",
     "text": [
      "abcdefghijklmnopqurtuvwxyz\n",
      "\n",
      "False\n",
      "ABCDEFGHIJKLMNOPQRSTUVWXYZ\n",
      "\n",
      "False\n",
      "1234567890\n",
      "\n",
      "False\n",
      "\n",
      "\n",
      "False\n",
      "Ha HaHa\n",
      "\n",
      "False\n",
      "\n",
      "\n",
      "False\n",
      "MetaCharacters (Need to be escaped):\n",
      "\n",
      "False\n",
      ".[{()\\^$|?*+\n",
      "\n",
      "False\n",
      "\n",
      "\n",
      "False\n",
      "coreyms.com\n",
      "\n",
      "False\n",
      "\n",
      "\n",
      "False\n",
      "321-555-4321\n",
      "\n",
      "False\n",
      "123.555.1234\n",
      "\n",
      "False\n",
      "\n",
      "\n",
      "False\n",
      "Mr. Schafer\n",
      "\n",
      "False\n",
      "Mr Smith\n",
      "\n",
      "False\n",
      "Ms Davis\n",
      "\n",
      "False\n",
      "Mrs. Robinson\n",
      "\n",
      "False\n",
      "Mr. T\n",
      "\n",
      "False\n",
      "\n",
      "\n",
      "False\n",
      "\n",
      "\n",
      "False\n",
      "\n",
      "\n",
      "False\n",
      "The \n",
      "\n",
      "True\n",
      "true: The \n",
      "\n",
      "the\n",
      "\n",
      "True\n",
      "true: the\n",
      "\n",
      "other\n",
      "\n",
      "False\n",
      "theology\n",
      "False\n"
     ]
    }
   ],
   "source": [
    "if __name__ == '__main__':\n",
    "    main()"
   ]
  }
 ],
 "metadata": {
  "kernelspec": {
   "display_name": "Python 3",
   "language": "python",
   "name": "python3"
  },
  "language_info": {
   "codemirror_mode": {
    "name": "ipython",
    "version": 3
   },
   "file_extension": ".py",
   "mimetype": "text/x-python",
   "name": "python",
   "nbconvert_exporter": "python",
   "pygments_lexer": "ipython3",
   "version": "3.7.4"
  }
 },
 "nbformat": 4,
 "nbformat_minor": 2
}
