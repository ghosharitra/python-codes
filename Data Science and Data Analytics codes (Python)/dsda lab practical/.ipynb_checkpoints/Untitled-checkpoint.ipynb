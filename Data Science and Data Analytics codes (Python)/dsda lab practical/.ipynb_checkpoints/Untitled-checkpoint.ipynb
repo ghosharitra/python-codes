{
 "cells": [
  {
   "cell_type": "code",
   "execution_count": 1,
   "metadata": {},
   "outputs": [
    {
     "name": "stdout",
     "output_type": "stream",
     "text": [
      "asd dsfg etrf dssdsfsdf cvbgnc\n"
     ]
    }
   ],
   "source": [
    "s=input().split()"
   ]
  },
  {
   "cell_type": "code",
   "execution_count": 5,
   "metadata": {},
   "outputs": [
    {
     "name": "stdout",
     "output_type": "stream",
     "text": [
      "dssdsfsdf\n"
     ]
    }
   ],
   "source": [
    "maxrank=0\n",
    "for w in s:\n",
    "    if( maxrank < len(w)):\n",
    "        maxrank=len(w)\n",
    "        maxw=w\n",
    "print(maxw)"
   ]
  },
  {
   "cell_type": "code",
   "execution_count": null,
   "metadata": {},
   "outputs": [],
   "source": []
  }
 ],
 "metadata": {
  "kernelspec": {
   "display_name": "Python 3",
   "language": "python",
   "name": "python3"
  },
  "language_info": {
   "codemirror_mode": {
    "name": "ipython",
    "version": 3
   },
   "file_extension": ".py",
   "mimetype": "text/x-python",
   "name": "python",
   "nbconvert_exporter": "python",
   "pygments_lexer": "ipython3",
   "version": "3.7.4"
  }
 },
 "nbformat": 4,
 "nbformat_minor": 2
}
